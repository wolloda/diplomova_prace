{
 "cells": [
  {
   "cell_type": "code",
   "execution_count": 1,
   "metadata": {},
   "outputs": [],
   "source": [
    "import faiss\n",
    "import numpy as np\n",
    "import pandas as pd"
   ]
  },
  {
   "cell_type": "code",
   "execution_count": 2,
   "metadata": {},
   "outputs": [
    {
     "name": "stderr",
     "output_type": "stream",
     "text": [
      "10-03-21 00:10 INFO: Loaded dataset of shape: (1000000, 285)\n"
     ]
    },
    {
     "data": {
      "text/html": [
       "<div>\n",
       "<style scoped>\n",
       "    .dataframe tbody tr th:only-of-type {\n",
       "        vertical-align: middle;\n",
       "    }\n",
       "\n",
       "    .dataframe tbody tr th {\n",
       "        vertical-align: top;\n",
       "    }\n",
       "\n",
       "    .dataframe thead th {\n",
       "        text-align: right;\n",
       "    }\n",
       "</style>\n",
       "<table border=\"1\" class=\"dataframe\">\n",
       "  <thead>\n",
       "    <tr style=\"text-align: right;\">\n",
       "      <th></th>\n",
       "      <th>L1</th>\n",
       "      <th>L2</th>\n",
       "      <th>object_id</th>\n",
       "      <th>0</th>\n",
       "      <th>1</th>\n",
       "      <th>2</th>\n",
       "      <th>3</th>\n",
       "      <th>4</th>\n",
       "      <th>5</th>\n",
       "      <th>6</th>\n",
       "      <th>...</th>\n",
       "      <th>272</th>\n",
       "      <th>273</th>\n",
       "      <th>274</th>\n",
       "      <th>275</th>\n",
       "      <th>276</th>\n",
       "      <th>277</th>\n",
       "      <th>278</th>\n",
       "      <th>279</th>\n",
       "      <th>280</th>\n",
       "      <th>281</th>\n",
       "    </tr>\n",
       "  </thead>\n",
       "  <tbody>\n",
       "    <tr>\n",
       "      <th>0</th>\n",
       "      <td>5</td>\n",
       "      <td>6</td>\n",
       "      <td>337981</td>\n",
       "      <td>-1.003102</td>\n",
       "      <td>-0.007772</td>\n",
       "      <td>-0.697076</td>\n",
       "      <td>-1.839537</td>\n",
       "      <td>0.510095</td>\n",
       "      <td>-1.341517</td>\n",
       "      <td>-0.388986</td>\n",
       "      <td>...</td>\n",
       "      <td>-2.167773</td>\n",
       "      <td>-0.687378</td>\n",
       "      <td>-0.158062</td>\n",
       "      <td>0.255001</td>\n",
       "      <td>0.200754</td>\n",
       "      <td>0.134813</td>\n",
       "      <td>0.200796</td>\n",
       "      <td>0.17399</td>\n",
       "      <td>0.06185</td>\n",
       "      <td>0.280142</td>\n",
       "    </tr>\n",
       "    <tr>\n",
       "      <th>1</th>\n",
       "      <td>5</td>\n",
       "      <td>6</td>\n",
       "      <td>549406</td>\n",
       "      <td>-0.917760</td>\n",
       "      <td>0.548654</td>\n",
       "      <td>-0.961553</td>\n",
       "      <td>-0.733066</td>\n",
       "      <td>-0.805921</td>\n",
       "      <td>-0.333378</td>\n",
       "      <td>-1.517734</td>\n",
       "      <td>...</td>\n",
       "      <td>-0.056616</td>\n",
       "      <td>-0.074816</td>\n",
       "      <td>-3.158292</td>\n",
       "      <td>0.255001</td>\n",
       "      <td>0.200754</td>\n",
       "      <td>0.134813</td>\n",
       "      <td>0.200796</td>\n",
       "      <td>0.17399</td>\n",
       "      <td>0.06185</td>\n",
       "      <td>-0.734546</td>\n",
       "    </tr>\n",
       "  </tbody>\n",
       "</table>\n",
       "<p>2 rows × 285 columns</p>\n",
       "</div>"
      ],
      "text/plain": [
       "   L1  L2  object_id         0         1         2         3         4  \\\n",
       "0   5   6     337981 -1.003102 -0.007772 -0.697076 -1.839537  0.510095   \n",
       "1   5   6     549406 -0.917760  0.548654 -0.961553 -0.733066 -0.805921   \n",
       "\n",
       "          5         6  ...       272       273       274       275       276  \\\n",
       "0 -1.341517 -0.388986  ... -2.167773 -0.687378 -0.158062  0.255001  0.200754   \n",
       "1 -0.333378 -1.517734  ... -0.056616 -0.074816 -3.158292  0.255001  0.200754   \n",
       "\n",
       "        277       278      279      280       281  \n",
       "0  0.134813  0.200796  0.17399  0.06185  0.280142  \n",
       "1  0.134813  0.200796  0.17399  0.06185 -0.734546  \n",
       "\n",
       "[2 rows x 285 columns]"
      ]
     },
     "execution_count": 2,
     "metadata": {},
     "output_type": "execute_result"
    }
   ],
   "source": [
    "from enum import Enum\n",
    "class DatasetDirs(Enum):\n",
    "    COPHIR_1M = \"/storage/brno6/home/tslaninakova/learned-indexes/MTree1M\"\n",
    "    COPHIR_100k = \"/storage/brno6/home/tslaninakova/learned-indexes/MTree100k\"\n",
    "    PROFI_1M = \"/storage/brno6/home/tslaninakova/learned-indexes/MtreeProfi2000\"\n",
    "    \n",
    "class DatasetDirsLocal(Enum):\n",
    "    COPHIR_100k = \"./Mtree-Cophir-100k\"\n",
    "\n",
    "from LMI import LMI\n",
    "li = LMI(DatasetDirs.COPHIR_1M.value)\n",
    "df = li.get_dataset()\n",
    "df.head(2)"
   ]
  },
  {
   "cell_type": "markdown",
   "metadata": {},
   "source": [
    "## Faiss Demo\n",
    "Source: Faiss documentation - https://github.com/facebookresearch/faiss/wiki/Getting-started \n",
    "\n",
    "\n",
    "### Steps:\n",
    "1. Convert data to float32, keep only the descriptors, get the dimensions\n",
    "2. Set up faiss to use GPUs\n",
    "3. Set up an efficient flat index\n",
    "4. Train on the data\n",
    "5. Query"
   ]
  },
  {
   "cell_type": "code",
   "execution_count": 3,
   "metadata": {},
   "outputs": [],
   "source": [
    "import faiss\n",
    "# 1.\n",
    "df[df.columns] = df[df.columns].apply(np.float32)\n",
    "df[\"object_id\"] = df[\"object_id\"].astype(np.int64)\n",
    "\n",
    "df_data = df.drop([\"L1\", \"L2\", \"object_id\"], axis=1).values\n",
    "dimension = df_data.shape[1]\n",
    "n = df_data.shape[0]"
   ]
  },
  {
   "cell_type": "code",
   "execution_count": 4,
   "metadata": {},
   "outputs": [],
   "source": [
    "# Installation guidelines: https://github.com/facebookresearch/faiss/blob/master/INSTALL.md\n",
    "#!pip install faiss-gpu"
   ]
  },
  {
   "cell_type": "code",
   "execution_count": 5,
   "metadata": {},
   "outputs": [
    {
     "ename": "AttributeError",
     "evalue": "module 'faiss' has no attribute 'get_num_gpus'",
     "output_type": "error",
     "traceback": [
      "\u001b[0;31m---------------------------------------------------------------------------\u001b[0m",
      "\u001b[0;31mAttributeError\u001b[0m                            Traceback (most recent call last)",
      "\u001b[0;32m<ipython-input-5-ce611667b640>\u001b[0m in \u001b[0;36m<module>\u001b[0;34m\u001b[0m\n\u001b[1;32m      1\u001b[0m \u001b[0;31m# 2.\u001b[0m\u001b[0;34m\u001b[0m\u001b[0;34m\u001b[0m\u001b[0m\n\u001b[0;32m----> 2\u001b[0;31m \u001b[0mngpus\u001b[0m \u001b[0;34m=\u001b[0m \u001b[0mfaiss\u001b[0m\u001b[0;34m.\u001b[0m\u001b[0mget_num_gpus\u001b[0m\u001b[0;34m(\u001b[0m\u001b[0;34m)\u001b[0m\u001b[0;34m\u001b[0m\u001b[0m\n\u001b[0m\u001b[1;32m      3\u001b[0m \u001b[0mres\u001b[0m \u001b[0;34m=\u001b[0m \u001b[0mfaiss\u001b[0m\u001b[0;34m.\u001b[0m\u001b[0mStandardGpuResources\u001b[0m\u001b[0;34m(\u001b[0m\u001b[0;34m)\u001b[0m \u001b[0;31m# declaring a GPU resource, using all the available GPUs\u001b[0m\u001b[0;34m\u001b[0m\u001b[0m\n\u001b[1;32m      4\u001b[0m \u001b[0mprint\u001b[0m\u001b[0;34m(\u001b[0m\u001b[0;34mf\"Faiss will be using all {ngpus} gpu(s)\"\u001b[0m\u001b[0;34m)\u001b[0m\u001b[0;34m\u001b[0m\u001b[0m\n\u001b[1;32m      5\u001b[0m \u001b[0mcpu_index\u001b[0m \u001b[0;34m=\u001b[0m \u001b[0mfaiss\u001b[0m\u001b[0;34m.\u001b[0m\u001b[0mIndexFlatL2\u001b[0m\u001b[0;34m(\u001b[0m\u001b[0mdimension\u001b[0m\u001b[0;34m)\u001b[0m \u001b[0;31m# creating an index\u001b[0m\u001b[0;34m\u001b[0m\u001b[0m\n",
      "\u001b[0;31mAttributeError\u001b[0m: module 'faiss' has no attribute 'get_num_gpus'"
     ]
    }
   ],
   "source": [
    "# 2.\n",
    "ngpus = faiss.get_num_gpus()\n",
    "res = faiss.StandardGpuResources() # declaring a GPU resource, using all the available GPUs\n",
    "print(f\"Faiss will be using all {ngpus} gpu(s)\")\n",
    "cpu_index = faiss.IndexFlatL2(dimension) # creating an index\n",
    "\n",
    "gpu_index = faiss.index_cpu_to_all_gpus(  # build the index\n",
    "    cpu_index\n",
    ")"
   ]
  },
  {
   "cell_type": "code",
   "execution_count": 25,
   "metadata": {},
   "outputs": [],
   "source": [
    "# 3.\n",
    "nlist = 10\n",
    "ivf_index = faiss.IndexIVFFlat(gpu_index, dimension, nlist, faiss.METRIC_L2)"
   ]
  },
  {
   "cell_type": "code",
   "execution_count": 26,
   "metadata": {},
   "outputs": [
    {
     "name": "stdout",
     "output_type": "stream",
     "text": [
      "True\n",
      "1000000\n"
     ]
    }
   ],
   "source": [
    "# 4.\n",
    "db_vectors = np.ascontiguousarray(df_data)\n",
    "ivf_index.train(db_vectors)\n",
    "print(ivf_index.is_trained)\n",
    "ivf_index.add(db_vectors)\n",
    "print(ivf_index.ntotal)"
   ]
  },
  {
   "cell_type": "code",
   "execution_count": 30,
   "metadata": {},
   "outputs": [
    {
     "name": "stderr",
     "output_type": "stream",
     "text": [
      "/storage/praha1/home/tslaninakova/.local/lib/python3.6/site-packages/pandas/core/frame.py:3069: SettingWithCopyWarning: \n",
      "A value is trying to be set on a copy of a slice from a DataFrame.\n",
      "Try using .loc[row_indexer,col_indexer] = value instead\n",
      "\n",
      "See the caveats in the documentation: https://pandas.pydata.org/pandas-docs/stable/user_guide/indexing.html#returning-a-view-versus-a-copy\n",
      "  self[k1] = value[k2]\n"
     ]
    }
   ],
   "source": [
    "# 5.\n",
    "from utils import get_knn_objects\n",
    "df_1k = li.get_sample_1k_objects(df)\n",
    "df_1k[df_1k.columns] = df_1k[df_1k.columns].apply(np.float32)\n",
    "\n",
    "gt_knns = li.get_knn_ground_truth()"
   ]
  },
  {
   "cell_type": "code",
   "execution_count": 39,
   "metadata": {},
   "outputs": [
    {
     "name": "stdout",
     "output_type": "stream",
     "text": [
      "CPU times: user 52.5 ms, sys: 0 ns, total: 52.5 ms\n",
      "Wall time: 52.5 ms\n"
     ]
    }
   ],
   "source": [
    "query_vector = np.ascontiguousarray([df_1k.iloc[0].drop([\"L1\", \"L2\", \"object_id\"])])\n",
    "%time distances, indices = ivf_index.search(query_vector, 30)"
   ]
  },
  {
   "cell_type": "code",
   "execution_count": 41,
   "metadata": {},
   "outputs": [
    {
     "data": {
      "text/plain": [
       "(array([[  0.      , 104.310745, 104.76199 , 108.10971 , 111.381195,\n",
       "         114.86546 , 115.27322 , 116.84767 , 117.91591 , 118.10533 ,\n",
       "         118.13173 , 118.85106 , 121.0092  , 121.040474, 121.10208 ,\n",
       "         121.11687 , 121.15764 , 121.579926, 122.750656, 123.054955,\n",
       "         123.06973 , 123.14552 , 123.74521 , 123.83394 , 124.79977 ,\n",
       "         124.85843 , 125.08534 , 125.22952 , 125.295135, 125.34945 ]],\n",
       "       dtype=float32),\n",
       " array([[   172, 652359, 550957, 699843, 149304, 797342, 558417, 797348,\n",
       "         797537, 551033, 991880, 149309, 841081, 663561, 551356, 924292,\n",
       "         149315, 867333, 149317, 333231, 221325, 797444, 189864, 866823,\n",
       "         995981, 961729, 149316, 558278, 797949, 798247]]))"
      ]
     },
     "execution_count": 41,
     "metadata": {},
     "output_type": "execute_result"
    }
   ],
   "source": [
    "distances, indices"
   ]
  },
  {
   "cell_type": "markdown",
   "metadata": {},
   "source": [
    "## Faiss as k-means\n",
    "\n",
    "### Training idea:\n",
    "Starting from the root model:\n",
    "1. Train K-Means (faiss) = clusters the data -> clusters==labels\n",
    "2. Train a supervised algorithm on the same data + labels -> predictions\n",
    "3. Divide the data according to the predictions\n",
    "\n"
   ]
  },
  {
   "cell_type": "code",
   "execution_count": 43,
   "metadata": {},
   "outputs": [],
   "source": [
    "import faiss\n",
    "import numpy as np\n",
    "\n",
    "\n",
    "class FaissKMeans:\n",
    "    def __init__(self, n_clusters=8, n_init=10, max_iter=300):\n",
    "        self.n_clusters = n_clusters\n",
    "        self.n_init = n_init\n",
    "        self.max_iter = max_iter\n",
    "        self.kmeans = None\n",
    "        self.cluster_centers_ = None\n",
    "        self.inertia_ = None\n",
    "\n",
    "    def fit(self, X):\n",
    "        self.kmeans = faiss.Kmeans(d=X.shape[1],\n",
    "                                   k=self.n_clusters,\n",
    "                                   niter=self.max_iter,\n",
    "                                   nredo=self.n_init)\n",
    "        self.kmeans.train(X.astype(np.float32))\n",
    "        self.cluster_centers_ = self.kmeans.centroids\n",
    "        self.inertia_ = self.kmeans.obj[-1] \n",
    "\n",
    "    def predict(self, X):\n",
    "        return self.kmeans.index.search(X.astype(np.float32), 1)"
   ]
  },
  {
   "cell_type": "code",
   "execution_count": 44,
   "metadata": {},
   "outputs": [
    {
     "name": "stdout",
     "output_type": "stream",
     "text": [
      "CPU times: user 6.57 s, sys: 5.62 ms, total: 6.57 s\n",
      "Wall time: 6.58 s\n"
     ]
    }
   ],
   "source": [
    "fkm = FaissKMeans()\n",
    "%time fkm.fit(db_vectors[:1000])"
   ]
  },
  {
   "cell_type": "code",
   "execution_count": 48,
   "metadata": {},
   "outputs": [
    {
     "data": {
      "text/html": [
       "<div>\n",
       "<style scoped>\n",
       "    .dataframe tbody tr th:only-of-type {\n",
       "        vertical-align: middle;\n",
       "    }\n",
       "\n",
       "    .dataframe tbody tr th {\n",
       "        vertical-align: top;\n",
       "    }\n",
       "\n",
       "    .dataframe thead th {\n",
       "        text-align: right;\n",
       "    }\n",
       "</style>\n",
       "<table border=\"1\" class=\"dataframe\">\n",
       "  <thead>\n",
       "    <tr style=\"text-align: right;\">\n",
       "      <th></th>\n",
       "      <th>L1</th>\n",
       "      <th>L2</th>\n",
       "      <th>object_id</th>\n",
       "      <th>0</th>\n",
       "      <th>1</th>\n",
       "      <th>2</th>\n",
       "      <th>3</th>\n",
       "      <th>4</th>\n",
       "      <th>5</th>\n",
       "      <th>6</th>\n",
       "      <th>...</th>\n",
       "      <th>272</th>\n",
       "      <th>273</th>\n",
       "      <th>274</th>\n",
       "      <th>275</th>\n",
       "      <th>276</th>\n",
       "      <th>277</th>\n",
       "      <th>278</th>\n",
       "      <th>279</th>\n",
       "      <th>280</th>\n",
       "      <th>281</th>\n",
       "    </tr>\n",
       "  </thead>\n",
       "  <tbody>\n",
       "    <tr>\n",
       "      <th>172</th>\n",
       "      <td>5.0</td>\n",
       "      <td>6.0</td>\n",
       "      <td>14274802.0</td>\n",
       "      <td>-0.661732</td>\n",
       "      <td>1.105080</td>\n",
       "      <td>0.228591</td>\n",
       "      <td>0.557815</td>\n",
       "      <td>0.510095</td>\n",
       "      <td>-0.535006</td>\n",
       "      <td>-2.521066</td>\n",
       "      <td>...</td>\n",
       "      <td>-0.056616</td>\n",
       "      <td>0.231465</td>\n",
       "      <td>0.091958</td>\n",
       "      <td>1.843996</td>\n",
       "      <td>0.200754</td>\n",
       "      <td>0.134813</td>\n",
       "      <td>0.200796</td>\n",
       "      <td>0.17399</td>\n",
       "      <td>0.06185</td>\n",
       "      <td>0.280142</td>\n",
       "    </tr>\n",
       "    <tr>\n",
       "      <th>212</th>\n",
       "      <td>5.0</td>\n",
       "      <td>6.0</td>\n",
       "      <td>15699747.0</td>\n",
       "      <td>0.277035</td>\n",
       "      <td>-0.749673</td>\n",
       "      <td>-0.432600</td>\n",
       "      <td>-0.917478</td>\n",
       "      <td>0.246892</td>\n",
       "      <td>0.271505</td>\n",
       "      <td>-2.144816</td>\n",
       "      <td>...</td>\n",
       "      <td>1.632310</td>\n",
       "      <td>1.150308</td>\n",
       "      <td>0.842015</td>\n",
       "      <td>-0.936745</td>\n",
       "      <td>-7.242367</td>\n",
       "      <td>0.134813</td>\n",
       "      <td>0.200796</td>\n",
       "      <td>0.17399</td>\n",
       "      <td>0.06185</td>\n",
       "      <td>0.280142</td>\n",
       "    </tr>\n",
       "    <tr>\n",
       "      <th>229</th>\n",
       "      <td>5.0</td>\n",
       "      <td>6.0</td>\n",
       "      <td>15930711.0</td>\n",
       "      <td>0.277035</td>\n",
       "      <td>1.476031</td>\n",
       "      <td>0.757544</td>\n",
       "      <td>-0.733066</td>\n",
       "      <td>-0.016311</td>\n",
       "      <td>-0.535006</td>\n",
       "      <td>-1.893983</td>\n",
       "      <td>...</td>\n",
       "      <td>2.054542</td>\n",
       "      <td>4.825678</td>\n",
       "      <td>3.092188</td>\n",
       "      <td>-0.936745</td>\n",
       "      <td>-4.451197</td>\n",
       "      <td>0.134813</td>\n",
       "      <td>0.200796</td>\n",
       "      <td>0.17399</td>\n",
       "      <td>0.06185</td>\n",
       "      <td>6.368273</td>\n",
       "    </tr>\n",
       "    <tr>\n",
       "      <th>567</th>\n",
       "      <td>5.0</td>\n",
       "      <td>6.0</td>\n",
       "      <td>24679440.0</td>\n",
       "      <td>0.191693</td>\n",
       "      <td>0.919605</td>\n",
       "      <td>-1.358267</td>\n",
       "      <td>0.004580</td>\n",
       "      <td>2.089313</td>\n",
       "      <td>-1.543144</td>\n",
       "      <td>-1.517734</td>\n",
       "      <td>...</td>\n",
       "      <td>2.899005</td>\n",
       "      <td>2.987993</td>\n",
       "      <td>-1.408157</td>\n",
       "      <td>-0.936745</td>\n",
       "      <td>-0.729636</td>\n",
       "      <td>0.134813</td>\n",
       "      <td>0.200796</td>\n",
       "      <td>0.17399</td>\n",
       "      <td>0.06185</td>\n",
       "      <td>0.280142</td>\n",
       "    </tr>\n",
       "    <tr>\n",
       "      <th>702</th>\n",
       "      <td>5.0</td>\n",
       "      <td>6.0</td>\n",
       "      <td>28327244.0</td>\n",
       "      <td>-1.003102</td>\n",
       "      <td>0.363179</td>\n",
       "      <td>1.022021</td>\n",
       "      <td>0.004580</td>\n",
       "      <td>-0.016311</td>\n",
       "      <td>0.674760</td>\n",
       "      <td>-1.266901</td>\n",
       "      <td>...</td>\n",
       "      <td>-0.056616</td>\n",
       "      <td>0.231465</td>\n",
       "      <td>-0.908119</td>\n",
       "      <td>-2.525739</td>\n",
       "      <td>0.200754</td>\n",
       "      <td>0.134813</td>\n",
       "      <td>0.200796</td>\n",
       "      <td>0.17399</td>\n",
       "      <td>0.06185</td>\n",
       "      <td>0.280142</td>\n",
       "    </tr>\n",
       "  </tbody>\n",
       "</table>\n",
       "<p>5 rows × 285 columns</p>\n",
       "</div>"
      ],
      "text/plain": [
       "      L1   L2   object_id         0         1         2         3         4  \\\n",
       "172  5.0  6.0  14274802.0 -0.661732  1.105080  0.228591  0.557815  0.510095   \n",
       "212  5.0  6.0  15699747.0  0.277035 -0.749673 -0.432600 -0.917478  0.246892   \n",
       "229  5.0  6.0  15930711.0  0.277035  1.476031  0.757544 -0.733066 -0.016311   \n",
       "567  5.0  6.0  24679440.0  0.191693  0.919605 -1.358267  0.004580  2.089313   \n",
       "702  5.0  6.0  28327244.0 -1.003102  0.363179  1.022021  0.004580 -0.016311   \n",
       "\n",
       "            5         6  ...       272       273       274       275  \\\n",
       "172 -0.535006 -2.521066  ... -0.056616  0.231465  0.091958  1.843996   \n",
       "212  0.271505 -2.144816  ...  1.632310  1.150308  0.842015 -0.936745   \n",
       "229 -0.535006 -1.893983  ...  2.054542  4.825678  3.092188 -0.936745   \n",
       "567 -1.543144 -1.517734  ...  2.899005  2.987993 -1.408157 -0.936745   \n",
       "702  0.674760 -1.266901  ... -0.056616  0.231465 -0.908119 -2.525739   \n",
       "\n",
       "          276       277       278      279      280       281  \n",
       "172  0.200754  0.134813  0.200796  0.17399  0.06185  0.280142  \n",
       "212 -7.242367  0.134813  0.200796  0.17399  0.06185  0.280142  \n",
       "229 -4.451197  0.134813  0.200796  0.17399  0.06185  6.368273  \n",
       "567 -0.729636  0.134813  0.200796  0.17399  0.06185  0.280142  \n",
       "702  0.200754  0.134813  0.200796  0.17399  0.06185  0.280142  \n",
       "\n",
       "[5 rows x 285 columns]"
      ]
     },
     "execution_count": 48,
     "metadata": {},
     "output_type": "execute_result"
    }
   ],
   "source": [
    "df_1k.head()"
   ]
  },
  {
   "cell_type": "code",
   "execution_count": 49,
   "metadata": {},
   "outputs": [
    {
     "name": "stdout",
     "output_type": "stream",
     "text": [
      "CPU times: user 56 µs, sys: 15 µs, total: 71 µs\n",
      "Wall time: 73 µs\n"
     ]
    }
   ],
   "source": [
    "query_vectors = np.ascontiguousarray(df_1k.iloc[:5].drop([\"L1\", \"L2\", \"object_id\"], axis=1))\n",
    "%time preds = fkm.predict(query_vectors)"
   ]
  },
  {
   "cell_type": "code",
   "execution_count": 50,
   "metadata": {},
   "outputs": [
    {
     "data": {
      "text/plain": [
       "(array([[ 97.45523],\n",
       "        [184.4277 ],\n",
       "        [396.6125 ],\n",
       "        [206.40402],\n",
       "        [179.11133]], dtype=float32),\n",
       " array([[1],\n",
       "        [3],\n",
       "        [3],\n",
       "        [0],\n",
       "        [2]]))"
      ]
     },
     "execution_count": 50,
     "metadata": {},
     "output_type": "execute_result"
    }
   ],
   "source": [
    "preds"
   ]
  }
 ],
 "metadata": {
  "kernelspec": {
   "display_name": "Python 3",
   "language": "python",
   "name": "python3"
  },
  "language_info": {
   "codemirror_mode": {
    "name": "ipython",
    "version": 3
   },
   "file_extension": ".py",
   "mimetype": "text/x-python",
   "name": "python",
   "nbconvert_exporter": "python",
   "pygments_lexer": "ipython3",
   "version": "3.6.2"
  }
 },
 "nbformat": 4,
 "nbformat_minor": 4
}
