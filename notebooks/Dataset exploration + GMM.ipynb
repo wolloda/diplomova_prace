{
 "cells": [
  {
   "cell_type": "markdown",
   "metadata": {},
   "source": [
    "# Dataset exploration\n",
    "\n",
    "### CoPhIR dataset\n",
    "- composed of multiple extracted descriptors (i.e., vectors) from images (e.g. color histogram)\n",
    "- more info: https://ieeexplore.ieee.org/document/5271953"
   ]
  },
  {
   "cell_type": "code",
   "execution_count": 1,
   "metadata": {},
   "outputs": [],
   "source": [
    "%load_ext autoreload\n",
    "%autoreload 2"
   ]
  },
  {
   "cell_type": "markdown",
   "metadata": {},
   "source": [
    "CoPhIR's original size is 100M, we worked with 1M version, but we potentially want to go to 5M with the next paper. I have saved the 1M and 100k versions here:"
   ]
  },
  {
   "cell_type": "code",
   "execution_count": 2,
   "metadata": {},
   "outputs": [],
   "source": [
    "from enum import Enum\n",
    "class DatasetDirs(Enum):\n",
    "    COPHIR_1M = \"/storage/brno6/home/tslaninakova/learned-indexes/MTree1M\"\n",
    "    COPHIR_100k = \"/storage/brno6/home/tslaninakova/learned-indexes/MTree100k\"\n",
    "    PROFI_1M = \"/storage/brno6/home/tslaninakova/learned-indexes/MtreeProfi2000\"\n",
    "    \n",
    "class DatasetDirsLocal(Enum):\n",
    "    COPHIR_100k = \"./Mtree-Cophir-100k\""
   ]
  },
  {
   "cell_type": "markdown",
   "metadata": {},
   "source": [
    "- other variants (if necessary) found in `cybela14@fi.muni.cz:/home/xdohnal/research/learning-indexes`, you can ssh to cybela14 from aisa"
   ]
  },
  {
   "cell_type": "markdown",
   "metadata": {},
   "source": [
    "Use the local variant, if you don't have an access to metacentrum yet"
   ]
  },
  {
   "cell_type": "code",
   "execution_count": 2,
   "metadata": {},
   "outputs": [
    {
     "name": "stdout",
     "output_type": "stream",
     "text": [
      "knn_gt.json  level-2.txt  objects.txt\r\n"
     ]
    }
   ],
   "source": [
    "%ls $DatasetDirs.COPHIR_100k.value"
   ]
  },
  {
   "cell_type": "markdown",
   "metadata": {},
   "source": [
    "### Directory description:\n",
    "- `objects.txt` - the data\n",
    "- `level-2.txt` - the assigned node labels from an M-tree = the 'ground truth' used for supervised learning\n",
    "- `knn_gt.json` - dumped dictionary of 30 nearest objects to every object of the 1k subset we used for experiments"
   ]
  },
  {
   "cell_type": "markdown",
   "metadata": {},
   "source": [
    "## Raw data\n",
    "First three rows describe the data, the rest are the numeric descriptors (i.e., the data)"
   ]
  },
  {
   "cell_type": "code",
   "execution_count": 4,
   "metadata": {
    "scrolled": false
   },
   "outputs": [
    {
     "name": "stdout",
     "output_type": "stream",
     "text": [
      "#objectKey messif.objects.keys.BucketIdObjectKey 1264121\r\n",
      "#filter messif.objects.PrecomputedDistancesFixedArrayFilter \r\n",
      "ColorLayoutType;messif.objects.impl.ObjectColorLayout;ColorStructureType;messif.objects.impl.ObjectShortVectorL1;EdgeHistogramType;messif.objects.impl.ObjectVectorEdgecomp;HomogeneousTextureType;messif.objects.impl.ObjectHomogeneousTexture;ScalableColorType;messif.objects.impl.ObjectIntVectorL1\r\n",
      "8,17,20,11,17,9;18,16,13;46,15,17\r\n",
      "38,5,0,0,0,0,0,9,255,62,1,18,0,0,0,0,0,0,0,0,0,0,15,6,254,109,5,27,0,0,0,0,0,0,0,0,125,25,0,0,135,0,0,12,12,0,0,4,4,0,0,6,88,0,0,1,71,0,0,0,0,0,0,13\r\n",
      "4,3,2,1,1,0,2,4,3,0,4,1,0,4,0,6,0,0,0,2,3,2,0,0,0,5,3,7,7,1,5,2,1,3,1,6,0,0,1,0,2,4,4,0,1,2,4,6,4,5,2,4,3,5,6,3,1,3,3,3,3,2,2,7,4,4,3,6,3,5,3,2,5,5,7,4,1,2,1,4\r\n",
      "45;51;166,146,151,187,158,144,168,136,127,162,130,136,140,100,83,143,89,97,106,60,53,110,60,47,96,17,9,65,11,7;166,142,147,188,158,139,162,138,122,164,120,132,135,92,71,138,77,91,107,48,50,106,54,44,106,9,3,66,4,4\r\n",
      "-78,-41,-62,79,53,14,22,39,-31,14,11,-1,3,13,19,21,-7,1,0,9,-15,5,0,17,-9,3,2,-1,-15,5,1,-4,-3,-3,0,1,0,0,1,-1,11,-2,1,3,1,2,4,-4,4,3,2,3,2,3,4,0,-7,0,0,-2,1,0,-3,-3\r\n",
      "#objectKey messif.objects.keys.BucketIdObjectKey 1269339\r\n"
     ]
    }
   ],
   "source": [
    "!head -n 9 $DatasetDirs.COPHIR_100k.value$'/objects.txt'"
   ]
  },
  {
   "cell_type": "markdown",
   "metadata": {},
   "source": [
    "I load them and combine the numeric values into 1 row:"
   ]
  },
  {
   "cell_type": "markdown",
   "metadata": {},
   "source": [
    "### Profiset dataset"
   ]
  },
  {
   "cell_type": "code",
   "execution_count": null,
   "metadata": {},
   "outputs": [
    {
     "name": "stdout",
     "output_type": "stream",
     "text": [
      "Loading labels\n"
     ]
    },
    {
     "name": "stderr",
     "output_type": "stream",
     "text": [
      "/auto/brno6/home/wollf/learned-indexes/learned-indexes/dataset_parsing.py:147: FutureWarning: Sorting because non-concatenation axis is not aligned. A future version\n",
      "of pandas will change to not sort by default.\n",
      "\n",
      "To accept the future behavior, pass 'sort=False'.\n",
      "\n",
      "To retain the current behavior and silence the warning, pass 'sort=True'.\n",
      "\n",
      "  df_i = pd.concat([df_i, df_])\n"
     ]
    },
    {
     "name": "stdout",
     "output_type": "stream",
     "text": [
      "Loading descriptors\n"
     ]
    }
   ],
   "source": [
    "from LMI import LMI\n",
    "li = LMI(DatasetDirs.PROFI_1M.value)\n",
    "df = li.get_dataset()\n",
    "df.head(2)"
   ]
  },
  {
   "cell_type": "code",
   "execution_count": 5,
   "metadata": {},
   "outputs": [
    {
     "ename": "NameError",
     "evalue": "name 'df' is not defined",
     "output_type": "error",
     "traceback": [
      "\u001b[0;31m-----------------------------------------------------------\u001b[0m",
      "\u001b[0;31mNameError\u001b[0m                 Traceback (most recent call last)",
      "\u001b[0;32m<ipython-input-5-92e7528a22ee>\u001b[0m in \u001b[0;36m<module>\u001b[0;34m\u001b[0m\n\u001b[1;32m      1\u001b[0m \u001b[0;32mimport\u001b[0m \u001b[0mnumpy\u001b[0m \u001b[0;32mas\u001b[0m \u001b[0mnp\u001b[0m\u001b[0;34m\u001b[0m\u001b[0m\n\u001b[0;32m----> 2\u001b[0;31m \u001b[0mdf\u001b[0m\u001b[0;34m[\u001b[0m\u001b[0;34m\"L2\"\u001b[0m\u001b[0;34m]\u001b[0m \u001b[0;34m=\u001b[0m \u001b[0mdf\u001b[0m\u001b[0;34m[\u001b[0m\u001b[0;34m\"L2\"\u001b[0m\u001b[0;34m]\u001b[0m\u001b[0;34m.\u001b[0m\u001b[0mastype\u001b[0m\u001b[0;34m(\u001b[0m\u001b[0mnp\u001b[0m\u001b[0;34m.\u001b[0m\u001b[0mint64\u001b[0m\u001b[0;34m)\u001b[0m\u001b[0;34m\u001b[0m\u001b[0m\n\u001b[0m\u001b[1;32m      3\u001b[0m \u001b[0mdf\u001b[0m\u001b[0;34m.\u001b[0m\u001b[0mhead\u001b[0m\u001b[0;34m(\u001b[0m\u001b[0;34m)\u001b[0m\u001b[0;34m\u001b[0m\u001b[0m\n",
      "\u001b[0;31mNameError\u001b[0m: name 'df' is not defined"
     ]
    }
   ],
   "source": [
    "import numpy as np\n",
    "df[\"L2\"] = df[\"L2\"].astype(np.int64)\n",
    "df.head()"
   ]
  },
  {
   "cell_type": "code",
   "execution_count": 6,
   "metadata": {},
   "outputs": [
    {
     "ename": "NameError",
     "evalue": "name 'df' is not defined",
     "output_type": "error",
     "traceback": [
      "\u001b[0;31m-----------------------------------------------------------\u001b[0m",
      "\u001b[0;31mNameError\u001b[0m                 Traceback (most recent call last)",
      "\u001b[0;32m<ipython-input-6-a74c58233b9e>\u001b[0m in \u001b[0;36m<module>\u001b[0;34m\u001b[0m\n\u001b[0;32m----> 1\u001b[0;31m \u001b[0mdf\u001b[0m\u001b[0;34m.\u001b[0m\u001b[0minfo\u001b[0m\u001b[0;34m(\u001b[0m\u001b[0;34m)\u001b[0m\u001b[0;34m\u001b[0m\u001b[0m\n\u001b[0m",
      "\u001b[0;31mNameError\u001b[0m: name 'df' is not defined"
     ]
    }
   ],
   "source": [
    "df.info()"
   ]
  },
  {
   "cell_type": "markdown",
   "metadata": {},
   "source": [
    "### CoPhIR dataset"
   ]
  },
  {
   "cell_type": "code",
   "execution_count": 25,
   "metadata": {},
   "outputs": [
    {
     "name": "stderr",
     "output_type": "stream",
     "text": [
      "24-02-21 19:15 INFO: Loaded dataset of shape: (100000, 285)\n"
     ]
    },
    {
     "data": {
      "text/plain": [
       "array([ 8,  8,  8, ..., 10, 10, 10])"
      ]
     },
     "execution_count": 25,
     "metadata": {},
     "output_type": "execute_result"
    }
   ],
   "source": [
    "from LMI import LMI\n",
    "li = LMI(DatasetDirs.COPHIR_100k.value)\n",
    "df = li.get_dataset(normalize=False)\n",
    "df.head(2)"
   ]
  },
  {
   "cell_type": "markdown",
   "metadata": {},
   "source": [
    "L1, L2 are labels from `level-2.txt` indicating that the original M-tree had a depth of 2."
   ]
  },
  {
   "cell_type": "code",
   "execution_count": 39,
   "metadata": {},
   "outputs": [
    {
     "data": {
      "text/plain": [
       "[1,\n",
       " 2,\n",
       " 3,\n",
       " 4,\n",
       " 5,\n",
       " 6,\n",
       " 7,\n",
       " 8,\n",
       " 9,\n",
       " 10,\n",
       " 11,\n",
       " 12,\n",
       " 13,\n",
       " 14,\n",
       " 15,\n",
       " 16,\n",
       " 17,\n",
       " 18,\n",
       " 19,\n",
       " 20,\n",
       " 21,\n",
       " 22,\n",
       " 23,\n",
       " 24,\n",
       " 25,\n",
       " 26,\n",
       " 27,\n",
       " 28,\n",
       " 29,\n",
       " 30,\n",
       " 31,\n",
       " 32,\n",
       " 33,\n",
       " 34,\n",
       " 35,\n",
       " 36,\n",
       " 37,\n",
       " 38,\n",
       " 39,\n",
       " 40,\n",
       " 41,\n",
       " 42,\n",
       " 43,\n",
       " 44,\n",
       " 45,\n",
       " 46,\n",
       " 47,\n",
       " 48,\n",
       " 49,\n",
       " 50,\n",
       " 51,\n",
       " 52,\n",
       " 53,\n",
       " 54,\n",
       " 55,\n",
       " 56,\n",
       " 57,\n",
       " 58,\n",
       " 59,\n",
       " 60,\n",
       " 61,\n",
       " 62,\n",
       " 63,\n",
       " 64,\n",
       " 65,\n",
       " 66,\n",
       " 67,\n",
       " 68,\n",
       " 69,\n",
       " 70,\n",
       " 71,\n",
       " 72,\n",
       " 73,\n",
       " 74,\n",
       " 75,\n",
       " 76,\n",
       " 77,\n",
       " 78,\n",
       " 79,\n",
       " 80,\n",
       " 81,\n",
       " 82,\n",
       " 83,\n",
       " 84,\n",
       " 85,\n",
       " 86,\n",
       " 87,\n",
       " 88,\n",
       " 89,\n",
       " 90,\n",
       " 91,\n",
       " 92,\n",
       " 93,\n",
       " 94,\n",
       " 95,\n",
       " 96,\n",
       " 97,\n",
       " 98,\n",
       " 99,\n",
       " 100]"
      ]
     },
     "execution_count": 39,
     "metadata": {},
     "output_type": "execute_result"
    }
   ],
   "source": [
    "import pandas as pd\n",
    "sorted(pd.unique(df[\"L2\"].values))"
   ]
  },
  {
   "cell_type": "markdown",
   "metadata": {},
   "source": [
    "## Training a simple unsupervised model on a subset of the data"
   ]
  },
  {
   "cell_type": "code",
   "execution_count": 4,
   "metadata": {},
   "outputs": [
    {
     "name": "stderr",
     "output_type": "stream",
     "text": [
      "24-02-21 19:00 INFO: Training GMM model with values of shape (1000, 282): n. of clusters=15 | covariance type=diag\n",
      "24-02-21 19:01 INFO: Training level 1\n",
      "24-02-21 19:01 INFO: Training GMM model with values of shape (29, 282): n. of clusters=100 | covariance type=diag\n",
      "24-02-21 19:01 WARNING: Reducing the number of components from 100 to 14 since the number of                           training samples (29) is less than 100\n",
      "24-02-21 19:01 INFO: Training GMM model with values of shape (43, 282): n. of clusters=14 | covariance type=diag\n",
      "24-02-21 19:01 INFO: Training GMM model with values of shape (33, 282): n. of clusters=14 | covariance type=diag\n",
      "24-02-21 19:01 INFO: Training GMM model with values of shape (55, 282): n. of clusters=14 | covariance type=diag\n",
      "24-02-21 19:01 INFO: Training GMM model with values of shape (16, 282): n. of clusters=14 | covariance type=diag\n",
      "24-02-21 19:01 INFO: Training GMM model with values of shape (100, 282): n. of clusters=14 | covariance type=diag\n",
      "24-02-21 19:01 INFO: Training GMM model with values of shape (59, 282): n. of clusters=14 | covariance type=diag\n",
      "24-02-21 19:01 INFO: Training GMM model with values of shape (31, 282): n. of clusters=14 | covariance type=diag\n",
      "24-02-21 19:01 INFO: Training GMM model with values of shape (189, 282): n. of clusters=14 | covariance type=diag\n",
      "24-02-21 19:01 INFO: Training GMM model with values of shape (89, 282): n. of clusters=14 | covariance type=diag\n",
      "24-02-21 19:01 INFO: Training GMM model with values of shape (75, 282): n. of clusters=14 | covariance type=diag\n",
      "24-02-21 19:01 INFO: Training GMM model with values of shape (23, 282): n. of clusters=14 | covariance type=diag\n",
      "24-02-21 19:01 INFO: Training GMM model with values of shape (182, 282): n. of clusters=14 | covariance type=diag\n",
      "24-02-21 19:01 INFO: Training GMM model with values of shape (47, 282): n. of clusters=14 | covariance type=diag\n",
      "24-02-21 19:01 INFO: Training GMM model with values of shape (29, 282): n. of clusters=14 | covariance type=diag\n"
     ]
    },
    {
     "name": "stdout",
     "output_type": "stream",
     "text": [
      "CPU times: user 651 ms, sys: 7.17 ms, total: 659 ms\n",
      "Wall time: 682 ms\n"
     ]
    },
    {
     "data": {
      "text/plain": [
       "(1000, 287)"
      ]
     },
     "execution_count": 4,
     "metadata": {},
     "output_type": "execute_result"
    }
   ],
   "source": [
    "df_s = df.sample(frac=0.01)\n",
    "training_specs = {\"GMM\": [{'comp': df_s[\"L1\"].max(), 'cov_type': 'diag'}, {'comp': df_s[\"L2\"].max(), 'cov_type': 'diag'}]}\n",
    "\n",
    "training_specs = {\"Faiss\": [{'buckets': df_s[\"L1\"].max()}, {'buckets': df_s[\"L2\"].max()}], {}]}\n",
    "\n",
    "%time df_result = li.train(df_s, training_specs, should_erase=True)\n",
    "df_result.shape"
   ]
  },
  {
   "cell_type": "code",
   "execution_count": 18,
   "metadata": {},
   "outputs": [
    {
     "data": {
      "text/plain": [
       "(100000, 285)"
      ]
     },
     "execution_count": 18,
     "metadata": {},
     "output_type": "execute_result"
    }
   ],
   "source": [
    "df.shape"
   ]
  },
  {
   "cell_type": "code",
   "execution_count": 40,
   "metadata": {},
   "outputs": [
    {
     "data": {
      "text/plain": [
       "L1                 8\n",
       "L2                31\n",
       "object_id    1264121\n",
       "0                  8\n",
       "1                 17\n",
       "              ...   \n",
       "277               -2\n",
       "278                1\n",
       "279                0\n",
       "280               -3\n",
       "281               -3\n",
       "Name: 0, Length: 285, dtype: int64"
      ]
     },
     "execution_count": 40,
     "metadata": {},
     "output_type": "execute_result"
    }
   ],
   "source": [
    "df.iloc[0]"
   ]
  },
  {
   "cell_type": "code",
   "execution_count": 41,
   "metadata": {},
   "outputs": [],
   "source": [
    "from sklearn.cluster import KMeans"
   ]
  },
  {
   "cell_type": "code",
   "execution_count": 45,
   "metadata": {},
   "outputs": [],
   "source": [
    "X = df.head(10)\n",
    "kmeans = KMeans(n_clusters = 2).fit(X.drop([\"L1\", \"L2\", \"object_id\"], axis = 1))"
   ]
  },
  {
   "cell_type": "code",
   "execution_count": 50,
   "metadata": {},
   "outputs": [
    {
     "data": {
      "text/plain": [
       "L1                 8\n",
       "L2                31\n",
       "object_id    2507363\n",
       "0                 21\n",
       "1                 18\n",
       "              ...   \n",
       "277               -3\n",
       "278                8\n",
       "279                0\n",
       "280               -3\n",
       "281               -3\n",
       "Name: 11, Length: 285, dtype: int64"
      ]
     },
     "execution_count": 50,
     "metadata": {},
     "output_type": "execute_result"
    }
   ],
   "source": [
    "df.iloc[11]"
   ]
  },
  {
   "cell_type": "code",
   "execution_count": 58,
   "metadata": {},
   "outputs": [
    {
     "data": {
      "text/plain": [
       "array([648.19715794, 702.85204702])"
      ]
     },
     "execution_count": 58,
     "metadata": {},
     "output_type": "execute_result"
    }
   ],
   "source": [
    "kmeans.transform([df.iloc[11].drop([\"L1\", \"L2\", \"object_id\"])])[0]"
   ]
  },
  {
   "cell_type": "code",
   "execution_count": 60,
   "metadata": {},
   "outputs": [
    {
     "data": {
      "text/plain": [
       "L1                 8\n",
       "L2                31\n",
       "object_id    2507363\n",
       "0                 21\n",
       "1                 18\n",
       "              ...   \n",
       "277               -3\n",
       "278                8\n",
       "279                0\n",
       "280               -3\n",
       "281               -3\n",
       "Name: 11, Length: 285, dtype: int64"
      ]
     },
     "execution_count": 60,
     "metadata": {},
     "output_type": "execute_result"
    }
   ],
   "source": [
    "df.iloc[11]"
   ]
  },
  {
   "cell_type": "code",
   "execution_count": 55,
   "metadata": {},
   "outputs": [
    {
     "data": {
      "text/plain": [
       "[0      21\n",
       " 1      18\n",
       " 2       8\n",
       " 3       6\n",
       " 4      14\n",
       "        ..\n",
       " 277    -3\n",
       " 278     8\n",
       " 279     0\n",
       " 280    -3\n",
       " 281    -3\n",
       " Name: 11, Length: 282, dtype: int64]"
      ]
     },
     "execution_count": 55,
     "metadata": {},
     "output_type": "execute_result"
    }
   ],
   "source": [
    "[df.iloc[11].drop([\"L1\", \"L2\", \"object_id\"])]"
   ]
  },
  {
   "cell_type": "code",
   "execution_count": 24,
   "metadata": {},
   "outputs": [
    {
     "data": {
      "text/plain": [
       "100"
      ]
     },
     "execution_count": 24,
     "metadata": {},
     "output_type": "execute_result"
    }
   ],
   "source": [
    "df[\"L2\"].max()"
   ]
  },
  {
   "cell_type": "code",
   "execution_count": 22,
   "metadata": {},
   "outputs": [
    {
     "data": {
      "text/plain": [
       "(1000, 287)"
      ]
     },
     "execution_count": 22,
     "metadata": {},
     "output_type": "execute_result"
    }
   ],
   "source": [
    "df_result.shape"
   ]
  },
  {
   "cell_type": "code",
   "execution_count": 7,
   "metadata": {},
   "outputs": [
    {
     "name": "stderr",
     "output_type": "stream",
     "text": [
      "07-01-21 08:21 INFO: Step 1: L1 added - PQ: [{'M.1.10': 1.0}, {'M.1.13': 1.1329272087579044e-78}, {'M.1.3': 3.4040043314400125e-96}, {'M.1.4': 3.016297205302193e-117}, {'M.1.5': 4.121877498142086e-133}, {'M.1.1': 2.6509091053163416e-142}, {'M.1.12': 4.3586168254717865e-150}, {'M.1.2': 3.529833008600152e-192}, {'M.1.7': 6.895773880000384e-204}, {'M.1.14': 7.679956954122186e-223}, {'M.1.6': 2.8635390938856102e-263}, {'M.1.0': 0.0}, {'M.1.8': 0.0}, {'M.1.9': 0.0}, {'M.1.11': 0.0}]\n",
      "\n",
      "07-01-21 08:21 INFO: Popped M.1.10\n",
      "07-01-21 08:21 INFO: L2 added - PQ (Top 5): [{'C.1.10.11': 1.0}, {'M.1.13': 1.1329272087579044e-78}, {'M.1.3': 3.4040043314400125e-96}, {'M.1.4': 3.016297205302193e-117}, {'M.1.5': 4.121877498142086e-133}]\n",
      "\n",
      "07-01-21 08:21 INFO: L2 found bucket C.1.10.11\n",
      "07-01-21 08:21 INFO: Popped M.1.13\n",
      "07-01-21 08:21 INFO: L2 added - PQ (Top 5): [{'C.1.13.17': 1.0}, {'M.1.3': 3.4040043314400125e-96}, {'M.1.4': 3.016297205302193e-117}, {'C.1.13.10': 2.9856893995487625e-122}, {'M.1.5': 4.121877498142086e-133}]\n",
      "\n",
      "07-01-21 08:21 INFO: L2 found bucket C.1.13.17\n",
      "07-01-21 08:21 INFO: Popped M.1.3\n",
      "07-01-21 08:21 INFO: L2 added - PQ (Top 5): [{'C.1.3.1': 0.9999999999998863}, {'C.1.3.8': 8.235934325836548e-14}, {'C.1.3.6': 9.356144583769648e-37}, {'M.1.4': 3.016297205302193e-117}, {'C.1.13.10': 2.9856893995487625e-122}]\n",
      "\n",
      "07-01-21 08:21 INFO: L2 found bucket C.1.3.1\n",
      "07-01-21 08:21 INFO: L2 found bucket C.1.3.8\n",
      "07-01-21 08:21 INFO: L2 found bucket C.1.3.6\n",
      "07-01-21 08:21 INFO: Popped M.1.4\n",
      "07-01-21 08:21 INFO: L2 added - PQ (Top 5): [{'C.1.4.4': 1.0}, {'C.1.4.8': 8.472183986902324e-64}, {'C.1.13.10': 2.9856893995487625e-122}, {'M.1.5': 4.121877498142086e-133}, {'M.1.1': 2.6509091053163416e-142}]\n",
      "\n",
      "07-01-21 08:21 INFO: L2 found bucket C.1.4.4\n",
      "07-01-21 08:21 INFO: L2 found bucket C.1.4.8\n",
      "07-01-21 08:21 INFO: L2 found bucket C.1.13.10\n",
      "07-01-21 08:21 INFO: Popped M.1.5\n",
      "07-01-21 08:21 INFO: L2 added - PQ (Top 5): [{'C.1.5.17': 1.0}, {'C.1.5.1': 8.417361607015239e-19}, {'C.1.5.8': 1.831101066837471e-66}, {'C.1.5.3': 1.0897531047874975e-71}, {'C.1.5.14': 4.3320900915019116e-98}]\n",
      "\n",
      "07-01-21 08:21 INFO: L2 found bucket C.1.5.17\n",
      "07-01-21 08:21 INFO: L2 found bucket C.1.5.1\n",
      "07-01-21 08:21 INFO: L2 found bucket C.1.5.8\n",
      "07-01-21 08:21 INFO: L2 found bucket C.1.5.3\n",
      "07-01-21 08:21 INFO: L2 found bucket C.1.5.14\n",
      "07-01-21 08:21 INFO: L2 found bucket C.1.5.20\n",
      "07-01-21 08:21 INFO: L2 found bucket C.1.5.16\n",
      "07-01-21 08:21 INFO: L2 found bucket C.1.5.18\n",
      "07-01-21 08:21 INFO: L2 found bucket C.1.5.5\n",
      "07-01-21 08:21 INFO: Popped M.1.1\n",
      "07-01-21 08:21 INFO: L2 added - PQ (Top 5): [{'C.1.1.1': 1.0}, {'C.1.4.12': 9.368972047691345e-144}, {'M.1.12': 4.3586168254717865e-150}, {'C.1.5.6': 8.559480017047273e-159}, {'C.1.4.3': 2.7562144960381848e-163}]\n",
      "\n",
      "07-01-21 08:21 INFO: L2 found bucket C.1.1.1\n",
      "07-01-21 08:21 INFO: L2 found bucket C.1.4.12\n",
      "07-01-21 08:21 INFO: Popped M.1.12\n",
      "07-01-21 08:21 INFO: L2 added - PQ (Top 5): [{'C.1.12.3': 1.0}, {'C.1.5.6': 8.559480017047273e-159}, {'C.1.4.3': 2.7562144960381848e-163}, {'M.1.2': 3.529833008600152e-192}, {'C.1.5.0': 1.398862441293849e-194}]\n",
      "\n",
      "07-01-21 08:21 INFO: L2 found bucket C.1.12.3\n",
      "07-01-21 08:21 INFO: L2 found bucket C.1.5.6\n",
      "07-01-21 08:21 INFO: L2 found bucket C.1.4.3\n",
      "07-01-21 08:21 INFO: Popped M.1.2\n",
      "07-01-21 08:21 INFO: L2 added - PQ (Top 5): [{'C.1.2.1': 1.0}, {'C.1.5.0': 1.398862441293849e-194}, {'M.1.7': 6.895773880000384e-204}, {'M.1.14': 7.679956954122186e-223}, {'C.1.5.13': 6.13650218347509e-227}]\n",
      "\n",
      "07-01-21 08:21 INFO: L2 found bucket C.1.2.1\n",
      "07-01-21 08:21 INFO: L2 found bucket C.1.5.0\n",
      "07-01-21 08:21 INFO: Popped M.1.7\n",
      "07-01-21 08:21 INFO: L2 added - PQ (Top 5): [{'C.1.7.0': 1.0}, {'M.1.14': 7.679956954122186e-223}, {'C.1.5.13': 6.13650218347509e-227}, {'C.1.3.7': 4.002887781039211e-228}, {'M.1.6': 2.8635390938856102e-263}]\n",
      "\n",
      "07-01-21 08:21 INFO: L2 found bucket C.1.7.0\n",
      "07-01-21 08:21 INFO: Popped M.1.14\n",
      "07-01-21 08:21 INFO: L2 added - PQ (Top 5): [{'C.1.14.1': 1.0}, {'C.1.5.13': 6.13650218347509e-227}, {'C.1.3.7': 4.002887781039211e-228}, {'M.1.6': 2.8635390938856102e-263}, {'C.1.10.15': 1.354403083220968e-297}]\n",
      "\n",
      "07-01-21 08:21 INFO: L2 found bucket C.1.14.1\n",
      "07-01-21 08:21 INFO: L2 found bucket C.1.5.13\n",
      "07-01-21 08:21 INFO: L2 found bucket C.1.3.7\n",
      "07-01-21 08:21 INFO: Popped M.1.6\n",
      "07-01-21 08:21 INFO: L2 added - PQ (Top 5): [{'C.1.6.5': 1.0}, {'C.1.10.15': 1.354403083220968e-297}, {'C.1.3.11': 5.192663666911e-311}, {'C.1.10.7': 8.7153e-320}, {'M.1.0': 0.0}]\n",
      "\n",
      "07-01-21 08:21 INFO: L2 found bucket C.1.6.5\n",
      "07-01-21 08:21 INFO: L2 found bucket C.1.10.15\n",
      "07-01-21 08:21 INFO: L2 found bucket C.1.3.11\n",
      "07-01-21 08:21 INFO: L2 found bucket C.1.10.7\n",
      "07-01-21 08:21 INFO: Popped M.1.0\n",
      "07-01-21 08:21 INFO: L2 added - PQ (Top 5): [{'C.1.0.4': 1.0}, {'M.1.8': 0.0}, {'M.1.9': 0.0}, {'M.1.11': 0.0}, {'C.1.10.0': 0.0}]\n",
      "\n",
      "07-01-21 08:21 INFO: L2 found bucket C.1.0.4\n",
      "07-01-21 08:21 INFO: Popped M.1.8\n",
      "07-01-21 08:21 INFO: L2 added - PQ (Top 5): [{'C.1.8.2': 1.0}, {'M.1.9': 0.0}, {'M.1.11': 0.0}, {'C.1.10.0': 0.0}, {'C.1.10.1': 0.0}]\n",
      "\n",
      "07-01-21 08:21 INFO: L2 found bucket C.1.8.2\n",
      "07-01-21 08:21 INFO: Popped M.1.9\n",
      "07-01-21 08:21 INFO: L2 added - PQ (Top 5): [{'C.1.9.7': 1.0}, {'M.1.11': 0.0}, {'C.1.10.0': 0.0}, {'C.1.10.1': 0.0}, {'C.1.10.2': 0.0}]\n",
      "\n",
      "07-01-21 08:21 INFO: L2 found bucket C.1.9.7\n",
      "07-01-21 08:21 INFO: Popped M.1.11\n",
      "07-01-21 08:21 INFO: L2 added - PQ (Top 5): [{'C.1.11.3': 1.0}, {'C.1.10.0': 0.0}, {'C.1.10.1': 0.0}, {'C.1.10.2': 0.0}, {'C.1.10.3': 0.0}]\n",
      "\n",
      "07-01-21 08:21 INFO: L2 found bucket C.1.11.3\n",
      "07-01-21 08:21 INFO: L2 found bucket C.1.10.0\n",
      "07-01-21 08:21 INFO: L2 found bucket C.1.10.1\n",
      "07-01-21 08:21 INFO: L2 found bucket C.1.10.2\n",
      "07-01-21 08:21 INFO: L2 found bucket C.1.10.3\n",
      "07-01-21 08:21 INFO: L2 found bucket C.1.10.4\n",
      "07-01-21 08:21 INFO: L2 found bucket C.1.10.5\n",
      "07-01-21 08:21 INFO: L2 found bucket C.1.10.6\n",
      "07-01-21 08:21 INFO: L2 found bucket C.1.10.8\n",
      "07-01-21 08:21 INFO: L2 found bucket C.1.10.9\n",
      "07-01-21 08:21 INFO: L2 found bucket C.1.10.10\n",
      "07-01-21 08:21 INFO: L2 found bucket C.1.10.12\n",
      "07-01-21 08:21 INFO: L2 found bucket C.1.10.13\n",
      "07-01-21 08:21 INFO: L2 found bucket C.1.10.14\n",
      "07-01-21 08:21 INFO: L2 found bucket C.1.10.16\n",
      "07-01-21 08:21 INFO: L2 found bucket C.1.10.17\n",
      "07-01-21 08:21 INFO: L2 found bucket C.1.10.18\n",
      "07-01-21 08:21 INFO: L2 found bucket C.1.10.19\n",
      "07-01-21 08:21 INFO: L2 found bucket C.1.10.20\n",
      "07-01-21 08:21 INFO: L2 found bucket C.1.13.0\n",
      "07-01-21 08:21 INFO: L2 found bucket C.1.13.1\n",
      "07-01-21 08:21 INFO: L2 found bucket C.1.13.2\n",
      "07-01-21 08:21 INFO: L2 found bucket C.1.13.3\n",
      "07-01-21 08:21 INFO: L2 found bucket C.1.13.4\n",
      "07-01-21 08:21 INFO: L2 found bucket C.1.13.5\n",
      "07-01-21 08:21 INFO: L2 found bucket C.1.13.6\n",
      "07-01-21 08:21 INFO: L2 found bucket C.1.13.7\n",
      "07-01-21 08:21 INFO: L2 found bucket C.1.13.8\n",
      "07-01-21 08:21 INFO: L2 found bucket C.1.13.9\n",
      "07-01-21 08:21 INFO: L2 found bucket C.1.13.11\n",
      "07-01-21 08:21 INFO: L2 found bucket C.1.13.12\n",
      "07-01-21 08:21 INFO: L2 found bucket C.1.13.13\n",
      "07-01-21 08:21 INFO: L2 found bucket C.1.13.14\n",
      "07-01-21 08:21 INFO: L2 found bucket C.1.13.15\n",
      "07-01-21 08:21 INFO: L2 found bucket C.1.13.16\n",
      "07-01-21 08:21 INFO: L2 found bucket C.1.13.18\n",
      "07-01-21 08:21 INFO: L2 found bucket C.1.13.19\n",
      "07-01-21 08:21 INFO: L2 found bucket C.1.13.20\n",
      "07-01-21 08:21 INFO: L2 found bucket C.1.3.0\n",
      "07-01-21 08:21 INFO: L2 found bucket C.1.3.2\n",
      "07-01-21 08:21 INFO: L2 found bucket C.1.3.3\n",
      "07-01-21 08:21 INFO: L2 found bucket C.1.3.4\n",
      "07-01-21 08:21 INFO: L2 found bucket C.1.3.5\n",
      "07-01-21 08:21 INFO: L2 found bucket C.1.3.9\n",
      "07-01-21 08:21 INFO: L2 found bucket C.1.3.10\n",
      "07-01-21 08:21 INFO: L2 found bucket C.1.3.12\n",
      "07-01-21 08:21 INFO: L2 found bucket C.1.3.13\n",
      "07-01-21 08:21 INFO: L2 found bucket C.1.3.14\n",
      "07-01-21 08:21 INFO: L2 found bucket C.1.3.15\n",
      "07-01-21 08:21 INFO: L2 found bucket C.1.3.16\n",
      "07-01-21 08:21 INFO: L2 found bucket C.1.3.17\n",
      "07-01-21 08:21 INFO: L2 found bucket C.1.3.18\n",
      "07-01-21 08:21 INFO: L2 found bucket C.1.3.19\n",
      "07-01-21 08:21 INFO: L2 found bucket C.1.3.20\n",
      "07-01-21 08:21 INFO: L2 found bucket C.1.4.0\n",
      "07-01-21 08:21 INFO: L2 found bucket C.1.4.1\n",
      "07-01-21 08:21 INFO: L2 found bucket C.1.4.2\n",
      "07-01-21 08:21 INFO: L2 found bucket C.1.4.5\n",
      "07-01-21 08:21 INFO: L2 found bucket C.1.4.6\n",
      "07-01-21 08:21 INFO: L2 found bucket C.1.4.7\n"
     ]
    }
   ],
   "source": [
    "result = li.search(df_result, df_result.iloc[0][\"object_id\"], stop_cond_objects=[500], debug=True)"
   ]
  },
  {
   "cell_type": "code",
   "execution_count": 8,
   "metadata": {},
   "outputs": [
    {
     "data": {
      "text/plain": [
       "{'id': 100846880,\n",
       " 'time_checkpoints': [0.0854487419128418],\n",
       " 'popped_nodes_checkpoints': [['M.1.10',\n",
       "   'C.1.10.11',\n",
       "   'M.1.13',\n",
       "   'C.1.13.17',\n",
       "   'M.1.3',\n",
       "   'C.1.3.1',\n",
       "   'C.1.3.8',\n",
       "   'C.1.3.6',\n",
       "   'M.1.4',\n",
       "   'C.1.4.4',\n",
       "   'C.1.4.8',\n",
       "   'C.1.13.10',\n",
       "   'M.1.5',\n",
       "   'C.1.5.17',\n",
       "   'C.1.5.1',\n",
       "   'C.1.5.8',\n",
       "   'C.1.5.3',\n",
       "   'C.1.5.14',\n",
       "   'C.1.5.20',\n",
       "   'C.1.5.16',\n",
       "   'C.1.5.18',\n",
       "   'C.1.5.5',\n",
       "   'M.1.1',\n",
       "   'C.1.1.1',\n",
       "   'C.1.4.12',\n",
       "   'M.1.12',\n",
       "   'C.1.12.3',\n",
       "   'C.1.5.6',\n",
       "   'C.1.4.3',\n",
       "   'M.1.2',\n",
       "   'C.1.2.1',\n",
       "   'C.1.5.0',\n",
       "   'M.1.7',\n",
       "   'C.1.7.0',\n",
       "   'M.1.14',\n",
       "   'C.1.14.1',\n",
       "   'C.1.5.13',\n",
       "   'C.1.3.7',\n",
       "   'M.1.6',\n",
       "   'C.1.6.5',\n",
       "   'C.1.10.15',\n",
       "   'C.1.3.11',\n",
       "   'C.1.10.7',\n",
       "   'M.1.0',\n",
       "   'C.1.0.4',\n",
       "   'M.1.8',\n",
       "   'C.1.8.2',\n",
       "   'M.1.9',\n",
       "   'C.1.9.7',\n",
       "   'M.1.11',\n",
       "   'C.1.11.3',\n",
       "   'C.1.10.0',\n",
       "   'C.1.10.1',\n",
       "   'C.1.10.2',\n",
       "   'C.1.10.3',\n",
       "   'C.1.10.4',\n",
       "   'C.1.10.5',\n",
       "   'C.1.10.6',\n",
       "   'C.1.10.8',\n",
       "   'C.1.10.9',\n",
       "   'C.1.10.10',\n",
       "   'C.1.10.12',\n",
       "   'C.1.10.13',\n",
       "   'C.1.10.14',\n",
       "   'C.1.10.16',\n",
       "   'C.1.10.17',\n",
       "   'C.1.10.18',\n",
       "   'C.1.10.19',\n",
       "   'C.1.10.20',\n",
       "   'C.1.13.0',\n",
       "   'C.1.13.1',\n",
       "   'C.1.13.2',\n",
       "   'C.1.13.3',\n",
       "   'C.1.13.4',\n",
       "   'C.1.13.5',\n",
       "   'C.1.13.6',\n",
       "   'C.1.13.7',\n",
       "   'C.1.13.8',\n",
       "   'C.1.13.9',\n",
       "   'C.1.13.11',\n",
       "   'C.1.13.12',\n",
       "   'C.1.13.13',\n",
       "   'C.1.13.14',\n",
       "   'C.1.13.15',\n",
       "   'C.1.13.16',\n",
       "   'C.1.13.18',\n",
       "   'C.1.13.19',\n",
       "   'C.1.13.20',\n",
       "   'C.1.3.0',\n",
       "   'C.1.3.2',\n",
       "   'C.1.3.3',\n",
       "   'C.1.3.4',\n",
       "   'C.1.3.5',\n",
       "   'C.1.3.9',\n",
       "   'C.1.3.10',\n",
       "   'C.1.3.12',\n",
       "   'C.1.3.13',\n",
       "   'C.1.3.14',\n",
       "   'C.1.3.15',\n",
       "   'C.1.3.16',\n",
       "   'C.1.3.17',\n",
       "   'C.1.3.18',\n",
       "   'C.1.3.19',\n",
       "   'C.1.3.20',\n",
       "   'C.1.4.0',\n",
       "   'C.1.4.1',\n",
       "   'C.1.4.2',\n",
       "   'C.1.4.5',\n",
       "   'C.1.4.6',\n",
       "   'C.1.4.7']],\n",
       " 'objects_checkpoints': [500]}"
      ]
     },
     "execution_count": 8,
     "metadata": {},
     "output_type": "execute_result"
    }
   ],
   "source": [
    "result"
   ]
  },
  {
   "cell_type": "markdown",
   "metadata": {},
   "source": [
    "`popped_nodes_checkpoints` gives us a list of buckets that were visited. k-NN performance is then calculated by checking the 30 nearest neighbors to the query searched:"
   ]
  },
  {
   "cell_type": "markdown",
   "metadata": {},
   "source": [
    "## Evaluating the k-NN performance\n",
    "- get the 30-NN objects for a query\n",
    "- find out their buckets within the trained LMI\n",
    "- make an intersection with the visited buckets in `popped_nodes_checkpoints`"
   ]
  },
  {
   "cell_type": "code",
   "execution_count": 19,
   "metadata": {},
   "outputs": [],
   "source": [
    "# if not in metacentrum yet, download from https://www.fi.muni.cz/~xslanin/learned-indexes/cophir-knn-gt.json\n",
    "knn_file = \"/storage/brno6/home/tslaninakova/learned-indexes/cophir-1M-ground-truth-30NN.json\"\n",
    "knns = li.get_knn_ground_truth(filename=knn_file)"
   ]
  },
  {
   "cell_type": "code",
   "execution_count": 21,
   "metadata": {
    "scrolled": true
   },
   "outputs": [
    {
     "data": {
      "text/plain": [
       "{'365390735': 0.62756324,\n",
       " '221303952': 0.66440886,\n",
       " '439487761': 0.6693677,\n",
       " '413128212': 0.59656847,\n",
       " '361195928': 0.70481867,\n",
       " '169004575': 0.68627876,\n",
       " '100846880': 0.0,\n",
       " '167871401': 0.7212031,\n",
       " '112634416': 0.65926826,\n",
       " '270394545': 0.64337313,\n",
       " '429564726': 0.7034012,\n",
       " '378128695': 0.7249266,\n",
       " '100846905': 0.71257246,\n",
       " '233966395': 0.69729507,\n",
       " '100846652': 0.6643024,\n",
       " '398143810': 0.67309815,\n",
       " '169743263': 0.6781807,\n",
       " '433135174': 0.72369945,\n",
       " '152908623': 0.6666877,\n",
       " '374421076': 0.68043226,\n",
       " '4807766': 0.70307934,\n",
       " '171683168': 0.7044696,\n",
       " '102575842': 0.7082357,\n",
       " '109913828': 0.6794179,\n",
       " '275449829': 0.65825945,\n",
       " '398143676': 0.5878138,\n",
       " '350302872': 0.7166533,\n",
       " '250630251': 0.6780022,\n",
       " '248322158': 0.5889049,\n",
       " '100846845': 0.52966833}"
      ]
     },
     "execution_count": 21,
     "metadata": {},
     "output_type": "execute_result"
    }
   ],
   "source": [
    "knns[str(df_result.iloc[0][\"object_id\"])]"
   ]
  },
  {
   "cell_type": "markdown",
   "metadata": {},
   "source": [
    "These are the 30 nearest objects of the searched query. Since we only trained on a subset of the dataset, most of them are not in the trained portion (most likely only the query itself is), so we can't properly evaluate 30-NN performance. For that we'd have to train on the entire 1M dataset."
   ]
  },
  {
   "cell_type": "code",
   "execution_count": 27,
   "metadata": {},
   "outputs": [
    {
     "name": "stdout",
     "output_type": "stream",
     "text": [
      "365390735 is not in df_result\n",
      "221303952 is not in df_result\n",
      "439487761 is not in df_result\n",
      "413128212 is not in df_result\n",
      "361195928 is not in df_result\n",
      "169004575 is not in df_result\n",
      "100846880 is in df_result, its buckets: [[10 11]]\n",
      "167871401 is not in df_result\n",
      "112634416 is not in df_result\n",
      "270394545 is not in df_result\n",
      "429564726 is not in df_result\n",
      "378128695 is not in df_result\n",
      "100846905 is not in df_result\n",
      "233966395 is not in df_result\n",
      "100846652 is not in df_result\n",
      "398143810 is not in df_result\n",
      "169743263 is not in df_result\n",
      "433135174 is not in df_result\n",
      "152908623 is not in df_result\n",
      "374421076 is not in df_result\n",
      "4807766 is not in df_result\n",
      "171683168 is not in df_result\n",
      "102575842 is not in df_result\n",
      "109913828 is not in df_result\n",
      "275449829 is not in df_result\n",
      "398143676 is not in df_result\n",
      "350302872 is not in df_result\n",
      "250630251 is not in df_result\n",
      "248322158 is not in df_result\n",
      "100846845 is not in df_result\n"
     ]
    }
   ],
   "source": [
    "for key in knns[str(df_result.iloc[0][\"object_id\"])].keys():\n",
    "    if df_result[df_result[\"object_id\"] == int(key)].shape[0] == 0:\n",
    "        print(f\"{key} is not in df_result\")\n",
    "    else:\n",
    "        print(f\"{key} is in df_result, its buckets: {df_result[df_result['object_id'] == int(key)][['L1_pred', 'L2_pred']].values}\")"
   ]
  }
 ],
 "metadata": {
  "kernelspec": {
   "display_name": "Python 3",
   "language": "python",
   "name": "python3"
  },
  "language_info": {
   "codemirror_mode": {
    "name": "ipython",
    "version": 3
   },
   "file_extension": ".py",
   "mimetype": "text/x-python",
   "name": "python",
   "nbconvert_exporter": "python",
   "pygments_lexer": "ipython3",
   "version": "3.6.2"
  }
 },
 "nbformat": 4,
 "nbformat_minor": 4
}
