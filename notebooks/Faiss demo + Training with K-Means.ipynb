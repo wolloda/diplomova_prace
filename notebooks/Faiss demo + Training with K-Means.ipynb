{
 "cells": [
  {
   "cell_type": "code",
   "execution_count": 4,
   "metadata": {},
   "outputs": [],
   "source": [
    "import faiss\n",
    "import numpy as np\n",
    "import pandas as pd"
   ]
  },
  {
   "cell_type": "code",
   "execution_count": 5,
   "metadata": {},
   "outputs": [
    {
     "name": "stderr",
     "output_type": "stream",
     "text": [
      "10-03-21 00:33 INFO: Loaded dataset of shape: (1000000, 285)\n"
     ]
    }
   ],
   "source": [
    "from enum import Enum\n",
    "class DatasetDirs(Enum):\n",
    "    COPHIR_1M = \"/storage/brno6/home/tslaninakova/learned-indexes/MTree1M\"\n",
    "    COPHIR_100k = \"/storage/brno6/home/tslaninakova/learned-indexes/MTree100k\"\n",
    "    PROFI_1M = \"/storage/brno6/home/tslaninakova/learned-indexes/MtreeProfi2000\"\n",
    "    \n",
    "class DatasetDirsLocal(Enum):\n",
    "    COPHIR_100k = \"./Mtree-Cophir-100k\"\n",
    "\n",
    "from LMI import LMI\n",
    "li = LMI(DatasetDirs.COPHIR_1M.value)\n",
    "df_orig = li.get_dataset()"
   ]
  },
  {
   "cell_type": "markdown",
   "metadata": {},
   "source": [
    "## Faiss Demo\n",
    "Source: Faiss documentation - https://github.com/facebookresearch/faiss/wiki/Getting-started \n",
    "\n",
    "\n",
    "### Steps:\n",
    "1. Convert data to float32, keep only the descriptors, get the dimensions\n",
    "2. Set up faiss to use GPUs\n",
    "3. Set up an efficient flat index\n",
    "4. Train on the data\n",
    "5. Query"
   ]
  },
  {
   "cell_type": "markdown",
   "metadata": {},
   "source": [
    "1. Convert data to float32, keep only the descriptors, get the dimensions"
   ]
  },
  {
   "cell_type": "markdown",
   "metadata": {},
   "source": [
    "## Faiss KMeans"
   ]
  },
  {
   "cell_type": "code",
   "execution_count": 6,
   "metadata": {},
   "outputs": [],
   "source": [
    "import re\n",
    "\n",
    "def get_knn_objects(path=\"./queries.data\", should_be_int = True):\n",
    "    knn_object_ids = []\n",
    "    with open(path) as f:\n",
    "        for line in f.readlines():\n",
    "            z_1 = re.findall(r\"AbstractObjectKey ([\\d\\-_]+)\", line)\n",
    "            if z_1:\n",
    "                if should_be_int:\n",
    "                    knn_object_ids.append(int(z_1[0]))\n",
    "                else:\n",
    "                    knn_object_ids.append(z_1[0])\n",
    "    if should_be_int:\n",
    "        return np.array(knn_object_ids, dtype=np.int64)\n",
    "    \n",
    "    return np.array(knn_object_ids)\n",
    "\n",
    "def get_sample_1k_objects(df_res):\n",
    "    return df_res[df_res[\"object_id\"].isin(get_knn_objects(path = \"/storage/brno6/home/tslaninakova/learned-indexes/datasets/queries.data\"))]\n",
    "\n",
    "def unify_types(df):\n",
    "    df_modified = df.drop([\"object_id\"], axis = 1).astype(np.float32)\n",
    "    df_modified[\"object_id\"] = df[\"object_id\"].astype(np.int64)\n",
    "\n",
    "    cols = df_modified.columns.tolist()\n",
    "    cols = cols[0:2] + cols[-1:] + cols[2:-1]    \n",
    "    df_modified = df_modified[cols]\n",
    "\n",
    "    return df_modified\n"
   ]
  },
  {
   "cell_type": "code",
   "execution_count": 7,
   "metadata": {},
   "outputs": [
    {
     "name": "stdout",
     "output_type": "stream",
     "text": [
      "282\n",
      "1000000\n"
     ]
    }
   ],
   "source": [
    "df = unify_types(df_orig)\n",
    "\n",
    "df_data = df.drop([\"L1\", \"L2\", \"object_id\"], axis=1).values\n",
    "n = df_data.shape[0]\n",
    "dimension = df_data.shape[1]\n",
    "\n",
    "print(dimension)\n",
    "print(n)"
   ]
  },
  {
   "cell_type": "code",
   "execution_count": 8,
   "metadata": {},
   "outputs": [
    {
     "name": "stdout",
     "output_type": "stream",
     "text": [
      "Faiss will be using all 1 gpu(s)\n"
     ]
    }
   ],
   "source": [
    "import faiss\n",
    "\n",
    "ngpus = faiss.get_num_gpus()\n",
    "res = faiss.StandardGpuResources() # declaring a GPU resource, using all the available GPUs\n",
    "print(f\"Faiss will be using all {ngpus} gpu(s)\")\n",
    "cpu_index = faiss.IndexFlatL2(dimension) # creating an index\n",
    "\n",
    "gpu_index = faiss.index_cpu_to_all_gpus(  # build the index\n",
    "    cpu_index\n",
    ")\n",
    "\n",
    "nlist = 10\n",
    "ivf_index = faiss.IndexIVFFlat(gpu_index, dimension, nlist, faiss.METRIC_L2)"
   ]
  },
  {
   "cell_type": "code",
   "execution_count": 9,
   "metadata": {},
   "outputs": [
    {
     "name": "stdout",
     "output_type": "stream",
     "text": [
      "True\n",
      "1000000\n"
     ]
    }
   ],
   "source": [
    "db_vectors = np.ascontiguousarray(df_data)\n",
    "ivf_index.train(db_vectors)\n",
    "print(ivf_index.is_trained)\n",
    "ivf_index.add(db_vectors)\n",
    "print(ivf_index.ntotal)"
   ]
  },
  {
   "cell_type": "code",
   "execution_count": 10,
   "metadata": {},
   "outputs": [
    {
     "data": {
      "text/html": [
       "<div>\n",
       "<style scoped>\n",
       "    .dataframe tbody tr th:only-of-type {\n",
       "        vertical-align: middle;\n",
       "    }\n",
       "\n",
       "    .dataframe tbody tr th {\n",
       "        vertical-align: top;\n",
       "    }\n",
       "\n",
       "    .dataframe thead th {\n",
       "        text-align: right;\n",
       "    }\n",
       "</style>\n",
       "<table border=\"1\" class=\"dataframe\">\n",
       "  <thead>\n",
       "    <tr style=\"text-align: right;\">\n",
       "      <th></th>\n",
       "      <th>L1</th>\n",
       "      <th>L2</th>\n",
       "      <th>object_id</th>\n",
       "      <th>0</th>\n",
       "      <th>1</th>\n",
       "      <th>2</th>\n",
       "      <th>3</th>\n",
       "      <th>4</th>\n",
       "      <th>5</th>\n",
       "      <th>6</th>\n",
       "      <th>...</th>\n",
       "      <th>272</th>\n",
       "      <th>273</th>\n",
       "      <th>274</th>\n",
       "      <th>275</th>\n",
       "      <th>276</th>\n",
       "      <th>277</th>\n",
       "      <th>278</th>\n",
       "      <th>279</th>\n",
       "      <th>280</th>\n",
       "      <th>281</th>\n",
       "    </tr>\n",
       "  </thead>\n",
       "  <tbody>\n",
       "    <tr>\n",
       "      <th>172</th>\n",
       "      <td>5.0</td>\n",
       "      <td>6.0</td>\n",
       "      <td>14274802</td>\n",
       "      <td>-0.661732</td>\n",
       "      <td>1.105080</td>\n",
       "      <td>0.228591</td>\n",
       "      <td>0.557815</td>\n",
       "      <td>0.510095</td>\n",
       "      <td>-0.535006</td>\n",
       "      <td>-2.521066</td>\n",
       "      <td>...</td>\n",
       "      <td>-0.056616</td>\n",
       "      <td>0.231465</td>\n",
       "      <td>0.091958</td>\n",
       "      <td>1.843996</td>\n",
       "      <td>0.200754</td>\n",
       "      <td>0.134813</td>\n",
       "      <td>0.200796</td>\n",
       "      <td>0.17399</td>\n",
       "      <td>0.061850</td>\n",
       "      <td>0.280142</td>\n",
       "    </tr>\n",
       "    <tr>\n",
       "      <th>212</th>\n",
       "      <td>5.0</td>\n",
       "      <td>6.0</td>\n",
       "      <td>15699747</td>\n",
       "      <td>0.277035</td>\n",
       "      <td>-0.749673</td>\n",
       "      <td>-0.432600</td>\n",
       "      <td>-0.917478</td>\n",
       "      <td>0.246892</td>\n",
       "      <td>0.271505</td>\n",
       "      <td>-2.144816</td>\n",
       "      <td>...</td>\n",
       "      <td>1.632310</td>\n",
       "      <td>1.150308</td>\n",
       "      <td>0.842015</td>\n",
       "      <td>-0.936745</td>\n",
       "      <td>-7.242367</td>\n",
       "      <td>0.134813</td>\n",
       "      <td>0.200796</td>\n",
       "      <td>0.17399</td>\n",
       "      <td>0.061850</td>\n",
       "      <td>0.280142</td>\n",
       "    </tr>\n",
       "    <tr>\n",
       "      <th>229</th>\n",
       "      <td>5.0</td>\n",
       "      <td>6.0</td>\n",
       "      <td>15930711</td>\n",
       "      <td>0.277035</td>\n",
       "      <td>1.476031</td>\n",
       "      <td>0.757544</td>\n",
       "      <td>-0.733066</td>\n",
       "      <td>-0.016311</td>\n",
       "      <td>-0.535006</td>\n",
       "      <td>-1.893983</td>\n",
       "      <td>...</td>\n",
       "      <td>2.054542</td>\n",
       "      <td>4.825678</td>\n",
       "      <td>3.092188</td>\n",
       "      <td>-0.936745</td>\n",
       "      <td>-4.451197</td>\n",
       "      <td>0.134813</td>\n",
       "      <td>0.200796</td>\n",
       "      <td>0.17399</td>\n",
       "      <td>0.061850</td>\n",
       "      <td>6.368273</td>\n",
       "    </tr>\n",
       "    <tr>\n",
       "      <th>304</th>\n",
       "      <td>5.0</td>\n",
       "      <td>6.0</td>\n",
       "      <td>17355051</td>\n",
       "      <td>0.021008</td>\n",
       "      <td>2.032456</td>\n",
       "      <td>-0.829314</td>\n",
       "      <td>-2.208360</td>\n",
       "      <td>-0.542718</td>\n",
       "      <td>-1.341517</td>\n",
       "      <td>-0.765236</td>\n",
       "      <td>...</td>\n",
       "      <td>-0.056616</td>\n",
       "      <td>0.537746</td>\n",
       "      <td>0.591996</td>\n",
       "      <td>0.255001</td>\n",
       "      <td>0.200754</td>\n",
       "      <td>0.134813</td>\n",
       "      <td>0.200796</td>\n",
       "      <td>0.17399</td>\n",
       "      <td>0.061850</td>\n",
       "      <td>0.280142</td>\n",
       "    </tr>\n",
       "    <tr>\n",
       "      <th>390</th>\n",
       "      <td>5.0</td>\n",
       "      <td>6.0</td>\n",
       "      <td>19729509</td>\n",
       "      <td>0.703748</td>\n",
       "      <td>-0.564198</td>\n",
       "      <td>0.360830</td>\n",
       "      <td>1.111050</td>\n",
       "      <td>-0.016311</td>\n",
       "      <td>0.271505</td>\n",
       "      <td>-1.893983</td>\n",
       "      <td>...</td>\n",
       "      <td>-0.056616</td>\n",
       "      <td>-0.993659</td>\n",
       "      <td>0.091958</td>\n",
       "      <td>-0.142247</td>\n",
       "      <td>0.200754</td>\n",
       "      <td>0.134813</td>\n",
       "      <td>0.200796</td>\n",
       "      <td>0.17399</td>\n",
       "      <td>0.061850</td>\n",
       "      <td>-0.227202</td>\n",
       "    </tr>\n",
       "    <tr>\n",
       "      <th>...</th>\n",
       "      <td>...</td>\n",
       "      <td>...</td>\n",
       "      <td>...</td>\n",
       "      <td>...</td>\n",
       "      <td>...</td>\n",
       "      <td>...</td>\n",
       "      <td>...</td>\n",
       "      <td>...</td>\n",
       "      <td>...</td>\n",
       "      <td>...</td>\n",
       "      <td>...</td>\n",
       "      <td>...</td>\n",
       "      <td>...</td>\n",
       "      <td>...</td>\n",
       "      <td>...</td>\n",
       "      <td>...</td>\n",
       "      <td>...</td>\n",
       "      <td>...</td>\n",
       "      <td>...</td>\n",
       "      <td>...</td>\n",
       "      <td>...</td>\n",
       "    </tr>\n",
       "    <tr>\n",
       "      <th>984021</th>\n",
       "      <td>18.0</td>\n",
       "      <td>15.0</td>\n",
       "      <td>49783351</td>\n",
       "      <td>-0.064335</td>\n",
       "      <td>1.105080</td>\n",
       "      <td>-0.035885</td>\n",
       "      <td>0.188992</td>\n",
       "      <td>-0.542718</td>\n",
       "      <td>0.876388</td>\n",
       "      <td>-1.768567</td>\n",
       "      <td>...</td>\n",
       "      <td>-0.056616</td>\n",
       "      <td>0.231465</td>\n",
       "      <td>-2.658253</td>\n",
       "      <td>-3.320236</td>\n",
       "      <td>0.200754</td>\n",
       "      <td>0.134813</td>\n",
       "      <td>0.200796</td>\n",
       "      <td>0.17399</td>\n",
       "      <td>0.061850</td>\n",
       "      <td>0.280142</td>\n",
       "    </tr>\n",
       "    <tr>\n",
       "      <th>986616</th>\n",
       "      <td>15.0</td>\n",
       "      <td>37.0</td>\n",
       "      <td>84478260</td>\n",
       "      <td>0.703748</td>\n",
       "      <td>1.476031</td>\n",
       "      <td>-1.490505</td>\n",
       "      <td>-2.208360</td>\n",
       "      <td>0.510095</td>\n",
       "      <td>-0.535006</td>\n",
       "      <td>0.112679</td>\n",
       "      <td>...</td>\n",
       "      <td>-0.056616</td>\n",
       "      <td>-0.381097</td>\n",
       "      <td>0.842015</td>\n",
       "      <td>0.255001</td>\n",
       "      <td>0.200754</td>\n",
       "      <td>0.134813</td>\n",
       "      <td>0.200796</td>\n",
       "      <td>0.17399</td>\n",
       "      <td>0.061850</td>\n",
       "      <td>2.309519</td>\n",
       "    </tr>\n",
       "    <tr>\n",
       "      <th>990031</th>\n",
       "      <td>18.0</td>\n",
       "      <td>17.0</td>\n",
       "      <td>99783052</td>\n",
       "      <td>0.362378</td>\n",
       "      <td>-1.862525</td>\n",
       "      <td>0.889782</td>\n",
       "      <td>2.217520</td>\n",
       "      <td>-1.858733</td>\n",
       "      <td>0.674760</td>\n",
       "      <td>-1.517734</td>\n",
       "      <td>...</td>\n",
       "      <td>0.787847</td>\n",
       "      <td>0.537746</td>\n",
       "      <td>-2.408234</td>\n",
       "      <td>-1.333993</td>\n",
       "      <td>0.200754</td>\n",
       "      <td>0.134813</td>\n",
       "      <td>0.200796</td>\n",
       "      <td>0.17399</td>\n",
       "      <td>0.061850</td>\n",
       "      <td>0.280142</td>\n",
       "    </tr>\n",
       "    <tr>\n",
       "      <th>998682</th>\n",
       "      <td>2.0</td>\n",
       "      <td>60.0</td>\n",
       "      <td>33336832</td>\n",
       "      <td>3.093338</td>\n",
       "      <td>-0.378722</td>\n",
       "      <td>-0.168123</td>\n",
       "      <td>1.295462</td>\n",
       "      <td>0.246892</td>\n",
       "      <td>0.876388</td>\n",
       "      <td>0.739761</td>\n",
       "      <td>...</td>\n",
       "      <td>2.054542</td>\n",
       "      <td>0.844027</td>\n",
       "      <td>0.591996</td>\n",
       "      <td>0.255001</td>\n",
       "      <td>0.200754</td>\n",
       "      <td>0.134813</td>\n",
       "      <td>0.200796</td>\n",
       "      <td>0.17399</td>\n",
       "      <td>-11.170002</td>\n",
       "      <td>0.280142</td>\n",
       "    </tr>\n",
       "    <tr>\n",
       "      <th>998732</th>\n",
       "      <td>2.0</td>\n",
       "      <td>60.0</td>\n",
       "      <td>66427552</td>\n",
       "      <td>3.178680</td>\n",
       "      <td>0.177704</td>\n",
       "      <td>-0.300362</td>\n",
       "      <td>0.188992</td>\n",
       "      <td>0.246892</td>\n",
       "      <td>0.271505</td>\n",
       "      <td>0.488929</td>\n",
       "      <td>...</td>\n",
       "      <td>2.054542</td>\n",
       "      <td>0.844027</td>\n",
       "      <td>0.591996</td>\n",
       "      <td>0.255001</td>\n",
       "      <td>0.200754</td>\n",
       "      <td>0.134813</td>\n",
       "      <td>0.200796</td>\n",
       "      <td>0.17399</td>\n",
       "      <td>0.061850</td>\n",
       "      <td>0.280142</td>\n",
       "    </tr>\n",
       "  </tbody>\n",
       "</table>\n",
       "<p>1000 rows × 285 columns</p>\n",
       "</div>"
      ],
      "text/plain": [
       "          L1    L2  object_id         0         1         2         3  \\\n",
       "172      5.0   6.0   14274802 -0.661732  1.105080  0.228591  0.557815   \n",
       "212      5.0   6.0   15699747  0.277035 -0.749673 -0.432600 -0.917478   \n",
       "229      5.0   6.0   15930711  0.277035  1.476031  0.757544 -0.733066   \n",
       "304      5.0   6.0   17355051  0.021008  2.032456 -0.829314 -2.208360   \n",
       "390      5.0   6.0   19729509  0.703748 -0.564198  0.360830  1.111050   \n",
       "...      ...   ...        ...       ...       ...       ...       ...   \n",
       "984021  18.0  15.0   49783351 -0.064335  1.105080 -0.035885  0.188992   \n",
       "986616  15.0  37.0   84478260  0.703748  1.476031 -1.490505 -2.208360   \n",
       "990031  18.0  17.0   99783052  0.362378 -1.862525  0.889782  2.217520   \n",
       "998682   2.0  60.0   33336832  3.093338 -0.378722 -0.168123  1.295462   \n",
       "998732   2.0  60.0   66427552  3.178680  0.177704 -0.300362  0.188992   \n",
       "\n",
       "               4         5         6  ...       272       273       274  \\\n",
       "172     0.510095 -0.535006 -2.521066  ... -0.056616  0.231465  0.091958   \n",
       "212     0.246892  0.271505 -2.144816  ...  1.632310  1.150308  0.842015   \n",
       "229    -0.016311 -0.535006 -1.893983  ...  2.054542  4.825678  3.092188   \n",
       "304    -0.542718 -1.341517 -0.765236  ... -0.056616  0.537746  0.591996   \n",
       "390    -0.016311  0.271505 -1.893983  ... -0.056616 -0.993659  0.091958   \n",
       "...          ...       ...       ...  ...       ...       ...       ...   \n",
       "984021 -0.542718  0.876388 -1.768567  ... -0.056616  0.231465 -2.658253   \n",
       "986616  0.510095 -0.535006  0.112679  ... -0.056616 -0.381097  0.842015   \n",
       "990031 -1.858733  0.674760 -1.517734  ...  0.787847  0.537746 -2.408234   \n",
       "998682  0.246892  0.876388  0.739761  ...  2.054542  0.844027  0.591996   \n",
       "998732  0.246892  0.271505  0.488929  ...  2.054542  0.844027  0.591996   \n",
       "\n",
       "             275       276       277       278      279        280       281  \n",
       "172     1.843996  0.200754  0.134813  0.200796  0.17399   0.061850  0.280142  \n",
       "212    -0.936745 -7.242367  0.134813  0.200796  0.17399   0.061850  0.280142  \n",
       "229    -0.936745 -4.451197  0.134813  0.200796  0.17399   0.061850  6.368273  \n",
       "304     0.255001  0.200754  0.134813  0.200796  0.17399   0.061850  0.280142  \n",
       "390    -0.142247  0.200754  0.134813  0.200796  0.17399   0.061850 -0.227202  \n",
       "...          ...       ...       ...       ...      ...        ...       ...  \n",
       "984021 -3.320236  0.200754  0.134813  0.200796  0.17399   0.061850  0.280142  \n",
       "986616  0.255001  0.200754  0.134813  0.200796  0.17399   0.061850  2.309519  \n",
       "990031 -1.333993  0.200754  0.134813  0.200796  0.17399   0.061850  0.280142  \n",
       "998682  0.255001  0.200754  0.134813  0.200796  0.17399 -11.170002  0.280142  \n",
       "998732  0.255001  0.200754  0.134813  0.200796  0.17399   0.061850  0.280142  \n",
       "\n",
       "[1000 rows x 285 columns]"
      ]
     },
     "execution_count": 10,
     "metadata": {},
     "output_type": "execute_result"
    }
   ],
   "source": [
    "gt_knns = li.get_knn_ground_truth()\n",
    "df_1k = get_sample_1k_objects(df)\n",
    "df_1k"
   ]
  },
  {
   "cell_type": "code",
   "execution_count": 11,
   "metadata": {},
   "outputs": [],
   "source": [
    "class FaissKMeans:\n",
    "    def __init__(self, n_clusters=19, n_init=10, max_iter=300, gpu=True):\n",
    "        self.n_clusters = n_clusters\n",
    "        self.n_init = n_init\n",
    "        self.max_iter = max_iter\n",
    "        self.kmeans = None\n",
    "        self.cluster_centers_ = None\n",
    "        self.inertia_ = None\n",
    "        self.gpu = gpu\n",
    "\n",
    "    def fit(self, X):\n",
    "        self.kmeans = faiss.Kmeans(d=X.shape[1],\n",
    "                                   k=self.n_clusters,\n",
    "                                   niter=self.max_iter,\n",
    "                                   nredo=self.n_init,\n",
    "                                   gpu=self.gpu)\n",
    "        self.kmeans.train(X.astype(np.float32))\n",
    "        self.cluster_centers_ = self.kmeans.centroids\n",
    "        self.inertia_ = self.kmeans.obj[-1] \n",
    "\n",
    "    def predict(self, X):\n",
    "        return self.kmeans.index.search(X.astype(np.float32), 1)\n",
    "    \n",
    "    def prepare(self, df):\n",
    "        if len(df.shape) == 1:\n",
    "            return np.ascontiguousarray([df.drop([\"L1\", \"L2\", \"object_id\"])])\n",
    "        \n",
    "        return np.ascontiguousarray(df.drop([\"L1\", \"L2\", \"object_id\"], axis=1))"
   ]
  },
  {
   "cell_type": "code",
   "execution_count": 12,
   "metadata": {},
   "outputs": [
    {
     "name": "stdout",
     "output_type": "stream",
     "text": [
      "CPU times: user 5.52 s, sys: 472 ms, total: 6 s\n",
      "Wall time: 6 s\n"
     ]
    }
   ],
   "source": [
    "fkm = FaissKMeans(n_clusters = 19)\n",
    "%time fkm.fit(db_vectors)"
   ]
  },
  {
   "cell_type": "code",
   "execution_count": 13,
   "metadata": {},
   "outputs": [
    {
     "name": "stdout",
     "output_type": "stream",
     "text": [
      "CPU times: user 457 ms, sys: 212 ms, total: 670 ms\n",
      "Wall time: 671 ms\n"
     ]
    }
   ],
   "source": [
    "query_vectors = fkm.prepare(df)\n",
    "%time distances, indices = fkm.predict(query_vectors)"
   ]
  },
  {
   "cell_type": "code",
   "execution_count": 16,
   "metadata": {},
   "outputs": [
    {
     "data": {
      "text/plain": [
       "1000000"
      ]
     },
     "execution_count": 16,
     "metadata": {},
     "output_type": "execute_result"
    }
   ],
   "source": [
    "len(indices)"
   ]
  },
  {
   "cell_type": "code",
   "execution_count": 27,
   "metadata": {},
   "outputs": [
    {
     "data": {
      "text/plain": [
       "1000"
      ]
     },
     "execution_count": 27,
     "metadata": {},
     "output_type": "execute_result"
    }
   ],
   "source": [
    "indices[:1000]"
   ]
  },
  {
   "cell_type": "code",
   "execution_count": null,
   "metadata": {},
   "outputs": [],
   "source": [
    "#df[\"KMeans_L1_pred\"] = fkm.predict(fkm.prepare(df))[1]"
   ]
  },
  {
   "cell_type": "code",
   "execution_count": 20,
   "metadata": {},
   "outputs": [],
   "source": [
    "from sklearn.linear_model import LogisticRegression\n",
    "\n",
    "clf = LogisticRegression(max_iter = 10)"
   ]
  },
  {
   "cell_type": "code",
   "execution_count": 28,
   "metadata": {},
   "outputs": [
    {
     "name": "stderr",
     "output_type": "stream",
     "text": [
      "/auto/brno6/home/wollf/learned-indexes/venv/lib/python3.6/site-packages/sklearn/linear_model/logistic.py:432: FutureWarning: Default solver will be changed to 'lbfgs' in 0.22. Specify a solver to silence this warning.\n",
      "  FutureWarning)\n",
      "/auto/brno6/home/wollf/learned-indexes/venv/lib/python3.6/site-packages/sklearn/utils/validation.py:724: DataConversionWarning: A column-vector y was passed when a 1d array was expected. Please change the shape of y to (n_samples, ), for example using ravel().\n",
      "  y = column_or_1d(y, warn=True)\n",
      "/auto/brno6/home/wollf/learned-indexes/venv/lib/python3.6/site-packages/sklearn/linear_model/logistic.py:469: FutureWarning: Default multi_class will be changed to 'auto' in 0.22. Specify the multi_class option to silence this warning.\n",
      "  \"this warning.\", FutureWarning)\n"
     ]
    },
    {
     "data": {
      "text/plain": [
       "LogisticRegression(C=1.0, class_weight=None, dual=False, fit_intercept=True,\n",
       "                   intercept_scaling=1, l1_ratio=None, max_iter=10,\n",
       "                   multi_class='warn', n_jobs=None, penalty='l2',\n",
       "                   random_state=None, solver='warn', tol=0.0001, verbose=0,\n",
       "                   warm_start=False)"
      ]
     },
     "execution_count": 28,
     "metadata": {},
     "output_type": "execute_result"
    }
   ],
   "source": [
    "clf.fit(df.iloc[:1000].drop([\"L1\", \"L2\", \"object_id\"], axis = 1), indices[:1000])"
   ]
  },
  {
   "cell_type": "code",
   "execution_count": 37,
   "metadata": {},
   "outputs": [],
   "source": [
    "foo = clf.predict(df.iloc[1000:1100].drop([\"L1\", \"L2\", \"object_id\"], axis = 1))"
   ]
  },
  {
   "cell_type": "code",
   "execution_count": 42,
   "metadata": {},
   "outputs": [
    {
     "data": {
      "text/plain": [
       "array([14, 14, 14, 12, 12, 18, 12, 14, 10, 14, 18, 14, 12, 12, 12, 14, 14,\n",
       "       14, 12, 14, 14, 18, 12, 12, 12, 12, 14, 12, 14, 12, 12, 12, 14, 12,\n",
       "       12, 12,  9, 12, 12, 14, 12, 12, 12, 14, 14, 15, 14, 18, 14, 12, 12,\n",
       "        9, 18, 14, 18, 12, 14, 14, 14, 14,  9, 14, 12, 14, 12, 14, 14, 14,\n",
       "       14, 12, 14, 14,  9, 14, 14, 14, 14, 14, 14, 14, 14, 12, 12, 18, 14,\n",
       "       14, 18,  9, 14, 14,  7, 14, 14,  7, 14, 14, 14, 14, 14, 14])"
      ]
     },
     "execution_count": 42,
     "metadata": {},
     "output_type": "execute_result"
    }
   ],
   "source": [
    "foo"
   ]
  },
  {
   "cell_type": "code",
   "execution_count": 41,
   "metadata": {},
   "outputs": [
    {
     "data": {
      "text/plain": [
       "array([[14],\n",
       "       [14],\n",
       "       [14],\n",
       "       [14],\n",
       "       [12],\n",
       "       [18],\n",
       "       [12],\n",
       "       [14],\n",
       "       [10],\n",
       "       [14],\n",
       "       [18],\n",
       "       [11],\n",
       "       [12],\n",
       "       [12],\n",
       "       [12],\n",
       "       [14],\n",
       "       [14],\n",
       "       [14],\n",
       "       [18],\n",
       "       [12],\n",
       "       [14],\n",
       "       [18],\n",
       "       [12],\n",
       "       [12],\n",
       "       [12],\n",
       "       [12],\n",
       "       [12],\n",
       "       [12],\n",
       "       [14],\n",
       "       [12],\n",
       "       [12],\n",
       "       [12],\n",
       "       [14],\n",
       "       [12],\n",
       "       [12],\n",
       "       [12],\n",
       "       [ 9],\n",
       "       [12],\n",
       "       [12],\n",
       "       [14],\n",
       "       [12],\n",
       "       [12],\n",
       "       [12],\n",
       "       [14],\n",
       "       [14],\n",
       "       [15],\n",
       "       [14],\n",
       "       [18],\n",
       "       [12],\n",
       "       [12],\n",
       "       [12],\n",
       "       [12],\n",
       "       [18],\n",
       "       [14],\n",
       "       [18],\n",
       "       [12],\n",
       "       [14],\n",
       "       [14],\n",
       "       [14],\n",
       "       [14],\n",
       "       [ 9],\n",
       "       [14],\n",
       "       [12],\n",
       "       [14],\n",
       "       [12],\n",
       "       [14],\n",
       "       [14],\n",
       "       [14],\n",
       "       [14],\n",
       "       [14],\n",
       "       [14],\n",
       "       [14],\n",
       "       [14],\n",
       "       [14],\n",
       "       [14],\n",
       "       [14],\n",
       "       [14],\n",
       "       [14],\n",
       "       [14],\n",
       "       [14],\n",
       "       [14],\n",
       "       [12],\n",
       "       [12],\n",
       "       [12],\n",
       "       [14],\n",
       "       [14],\n",
       "       [18],\n",
       "       [16],\n",
       "       [14],\n",
       "       [14],\n",
       "       [ 7],\n",
       "       [14],\n",
       "       [14],\n",
       "       [ 7],\n",
       "       [14],\n",
       "       [14],\n",
       "       [14],\n",
       "       [14],\n",
       "       [14],\n",
       "       [14]])"
      ]
     },
     "execution_count": 41,
     "metadata": {},
     "output_type": "execute_result"
    }
   ],
   "source": [
    "indices[1000:1100]"
   ]
  },
  {
   "cell_type": "code",
   "execution_count": 46,
   "metadata": {},
   "outputs": [],
   "source": [
    "ok = 0\n",
    "for i in range(100):\n",
    "    if foo[i] == indices[1000:1100][i][0]:\n",
    "        ok += 1"
   ]
  },
  {
   "cell_type": "code",
   "execution_count": 47,
   "metadata": {},
   "outputs": [
    {
     "data": {
      "text/plain": [
       "89"
      ]
     },
     "execution_count": 47,
     "metadata": {},
     "output_type": "execute_result"
    }
   ],
   "source": [
    "ok"
   ]
  },
  {
   "cell_type": "code",
   "execution_count": null,
   "metadata": {},
   "outputs": [],
   "source": []
  }
 ],
 "metadata": {
  "kernelspec": {
   "display_name": "Python 3",
   "language": "python",
   "name": "python3"
  },
  "language_info": {
   "codemirror_mode": {
    "name": "ipython",
    "version": 3
   },
   "file_extension": ".py",
   "mimetype": "text/x-python",
   "name": "python",
   "nbconvert_exporter": "python",
   "pygments_lexer": "ipython3",
   "version": "3.6.2"
  }
 },
 "nbformat": 4,
 "nbformat_minor": 4
}
