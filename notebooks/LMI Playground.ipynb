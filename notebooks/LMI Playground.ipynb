{
 "cells": [
  {
   "cell_type": "markdown",
   "metadata": {},
   "source": [
    "# Learned Metric Index demo notebook\n",
    "This notebook walks you through the whole process of creating and using a Learned Metric Index (LMI).\n",
    "\n",
    "## Steps\n",
    "1. Load the dataset\n",
    "2. Build the LMI\n",
    "3. Run a query\n",
    "4. Find out its k-NN performance"
   ]
  },
  {
   "cell_type": "code",
   "execution_count": 1,
   "metadata": {},
   "outputs": [],
   "source": [
    "%matplotlib inline\n",
    "%load_ext autoreload\n",
    "%autoreload 2"
   ]
  },
  {
   "cell_type": "markdown",
   "metadata": {},
   "source": [
    "### Creating an LMI instance\n",
    "`LMI` is the basic object to inveract with when working with Learned indexes. It contains operations for:\n",
    "- loading the dataset\n",
    "- interface for training with various classifiers\n",
    "- interface for searching"
   ]
  },
  {
   "cell_type": "code",
   "execution_count": 4,
   "metadata": {},
   "outputs": [
    {
     "name": "stderr",
     "output_type": "stream",
     "text": [
      "03-03-21 14:19 INFO: Loaded dataset of shape: (100000, 285)\n"
     ]
    },
    {
     "data": {
      "text/html": [
       "<div>\n",
       "<style scoped>\n",
       "    .dataframe tbody tr th:only-of-type {\n",
       "        vertical-align: middle;\n",
       "    }\n",
       "\n",
       "    .dataframe tbody tr th {\n",
       "        vertical-align: top;\n",
       "    }\n",
       "\n",
       "    .dataframe thead th {\n",
       "        text-align: right;\n",
       "    }\n",
       "</style>\n",
       "<table border=\"1\" class=\"dataframe\">\n",
       "  <thead>\n",
       "    <tr style=\"text-align: right;\">\n",
       "      <th></th>\n",
       "      <th>L1</th>\n",
       "      <th>L2</th>\n",
       "      <th>object_id</th>\n",
       "      <th>0</th>\n",
       "      <th>1</th>\n",
       "      <th>2</th>\n",
       "      <th>3</th>\n",
       "      <th>4</th>\n",
       "      <th>5</th>\n",
       "      <th>6</th>\n",
       "      <th>...</th>\n",
       "      <th>272</th>\n",
       "      <th>273</th>\n",
       "      <th>274</th>\n",
       "      <th>275</th>\n",
       "      <th>276</th>\n",
       "      <th>277</th>\n",
       "      <th>278</th>\n",
       "      <th>279</th>\n",
       "      <th>280</th>\n",
       "      <th>281</th>\n",
       "    </tr>\n",
       "  </thead>\n",
       "  <tbody>\n",
       "    <tr>\n",
       "      <th>0</th>\n",
       "      <td>8</td>\n",
       "      <td>31</td>\n",
       "      <td>1264121</td>\n",
       "      <td>-1.242989</td>\n",
       "      <td>0.183268</td>\n",
       "      <td>0.226676</td>\n",
       "      <td>-0.915374</td>\n",
       "      <td>0.252619</td>\n",
       "      <td>-1.130569</td>\n",
       "      <td>-1.174948</td>\n",
       "      <td>...</td>\n",
       "      <td>0.376475</td>\n",
       "      <td>0.246309</td>\n",
       "      <td>-1.161265</td>\n",
       "      <td>0.238361</td>\n",
       "      <td>0.191588</td>\n",
       "      <td>0.133651</td>\n",
       "      <td>0.191612</td>\n",
       "      <td>0.181059</td>\n",
       "      <td>0.071334</td>\n",
       "      <td>0.292033</td>\n",
       "    </tr>\n",
       "    <tr>\n",
       "      <th>1</th>\n",
       "      <td>8</td>\n",
       "      <td>31</td>\n",
       "      <td>1269339</td>\n",
       "      <td>-1.499727</td>\n",
       "      <td>-0.376083</td>\n",
       "      <td>-0.169159</td>\n",
       "      <td>-0.178085</td>\n",
       "      <td>-1.059864</td>\n",
       "      <td>1.100678</td>\n",
       "      <td>-0.675192</td>\n",
       "      <td>...</td>\n",
       "      <td>0.376475</td>\n",
       "      <td>0.246309</td>\n",
       "      <td>-0.912330</td>\n",
       "      <td>0.648106</td>\n",
       "      <td>0.191588</td>\n",
       "      <td>0.133651</td>\n",
       "      <td>0.191612</td>\n",
       "      <td>0.181059</td>\n",
       "      <td>0.071334</td>\n",
       "      <td>-0.206513</td>\n",
       "    </tr>\n",
       "  </tbody>\n",
       "</table>\n",
       "<p>2 rows × 285 columns</p>\n",
       "</div>"
      ],
      "text/plain": [
       "   L1  L2  object_id         0         1         2         3         4  \\\n",
       "0   8  31    1264121 -1.242989  0.183268  0.226676 -0.915374  0.252619   \n",
       "1   8  31    1269339 -1.499727 -0.376083 -0.169159 -0.178085 -1.059864   \n",
       "\n",
       "          5         6  ...       272       273       274       275       276  \\\n",
       "0 -1.130569 -1.174948  ...  0.376475  0.246309 -1.161265  0.238361  0.191588   \n",
       "1  1.100678 -0.675192  ...  0.376475  0.246309 -0.912330  0.648106  0.191588   \n",
       "\n",
       "        277       278       279       280       281  \n",
       "0  0.133651  0.191612  0.181059  0.071334  0.292033  \n",
       "1  0.133651  0.191612  0.181059  0.071334 -0.206513  \n",
       "\n",
       "[2 rows x 285 columns]"
      ]
     },
     "execution_count": 4,
     "metadata": {},
     "output_type": "execute_result"
    }
   ],
   "source": [
    "from LMI import LMI\n",
    "import tensorflow as tf\n",
    "from tensorflow import keras\n",
    "\n",
    "# specify the path with the Mtree data.\n",
    "li = LMI(\"./Mtree-Cophir-100k\")\n",
    "df = li.get_dataset()\n",
    "df.head(2)"
   ]
  },
  {
   "cell_type": "markdown",
   "metadata": {},
   "source": [
    "The dataset is composed of labels (`L1`, `L2`), identifiers (`object_id`) and numberical data. This data are the normalized descriptors of M-tree CoPhIR dataset. Labels describe the object location within the M-tree - `L1`-th node in the first level and `L2`-th node in the second level."
   ]
  },
  {
   "cell_type": "markdown",
   "metadata": {},
   "source": [
    "### Build the LMI (Training phase)\n",
    "Training is goverened by the `train()` method in `LMI`. In order to specify the classifiers to use and their basic hyperparameters, you should provide it with `training_specs` dictionary. Currently supported classifiers and their parameters together with exaplanations can be found in the following tables:\n",
    "\n",
    "| classifier | Hyp. 1 | Hyp. 2 |\n",
    "|------------|--------|--------|\n",
    "| RF         | depth  | n_est  |\n",
    "| LogReg     | ep     |        |\n",
    "| NN         | model  | opt    |\n",
    "| NNMulti    | model  | opt    \n",
    "\n",
    "| classifier                 | Hyperparameter 1                                       | Hyperparameter 2                                |\n",
    "|----------------------------|----------------------------------------------|---------------------------------------|\n",
    "| RandomForestClassifier     | max_depth of the trees                       | number of trees                       |\n",
    "| Logistic Regression        | number of epochs                             |                                       |\n",
    "| Neural networks            | a classifier function (one of networks.py) | optimizer (one of keras.optimizers) |\n",
    "| Multilabel neural networks | a classifier function (one of networks.py) | optimizer (one of keras.optimizers) |"
   ]
  },
  {
   "cell_type": "code",
   "execution_count": 7,
   "metadata": {
    "scrolled": true
   },
   "outputs": [
    {
     "ename": "ModuleNotFoundError",
     "evalue": "No module named 'keras'",
     "output_type": "error",
     "traceback": [
      "\u001b[0;31m---------------------------------------------------------------------------\u001b[0m",
      "\u001b[0;31mModuleNotFoundError\u001b[0m                       Traceback (most recent call last)",
      "\u001b[0;32m<ipython-input-7-0fe10462b7a1>\u001b[0m in \u001b[0;36m<module>\u001b[0;34m\u001b[0m\n\u001b[0;32m----> 1\u001b[0;31m \u001b[0;32mfrom\u001b[0m \u001b[0mnetworks\u001b[0m \u001b[0;32mimport\u001b[0m \u001b[0mAdam\u001b[0m\u001b[0;34m,\u001b[0m \u001b[0mconstruct_fully_connected_model_282_128\u001b[0m\u001b[0;34m,\u001b[0m \u001b[0mconstruct_mlp\u001b[0m\u001b[0;34m\u001b[0m\u001b[0m\n\u001b[0m\u001b[1;32m      2\u001b[0m \u001b[0;31m#training_specs = {\"RF\": [{\"n_est\": 100, \"depth\": 30}, {\"n_est\": 100, \"depth\": 30}]}\u001b[0m\u001b[0;34m\u001b[0m\u001b[0;34m\u001b[0m\u001b[0m\n\u001b[1;32m      3\u001b[0m \u001b[0;31m#training_specs = {\"LogReg\": [{\"ep\": 10}, {\"ep\": 10}]}\u001b[0m\u001b[0;34m\u001b[0m\u001b[0;34m\u001b[0m\u001b[0m\n\u001b[1;32m      4\u001b[0m training_specs = {\"NN\": [{\"model\": construct_fully_connected_model_282_128, \"opt\": Adam(learning_rate=0.0001), \"ep\": 1}, \\\n\u001b[1;32m      5\u001b[0m                          {\"model\": construct_mlp, \"opt\": Adam(learning_rate=0.001), \"ep\":5}]}\n",
      "\u001b[0;32m/auto/brno6/home/wollf/learned-indexes/learned-indexes/networks.py\u001b[0m in \u001b[0;36m<module>\u001b[0;34m\u001b[0m\n\u001b[1;32m      1\u001b[0m \u001b[0;32mimport\u001b[0m \u001b[0mwarnings\u001b[0m\u001b[0;34m\u001b[0m\u001b[0m\n\u001b[1;32m      2\u001b[0m \u001b[0mwarnings\u001b[0m\u001b[0;34m.\u001b[0m\u001b[0msimplefilter\u001b[0m\u001b[0;34m(\u001b[0m\u001b[0maction\u001b[0m\u001b[0;34m=\u001b[0m\u001b[0;34m'ignore'\u001b[0m\u001b[0;34m,\u001b[0m \u001b[0mcategory\u001b[0m\u001b[0;34m=\u001b[0m\u001b[0mFutureWarning\u001b[0m\u001b[0;34m)\u001b[0m\u001b[0;34m\u001b[0m\u001b[0m\n\u001b[0;32m----> 3\u001b[0;31m \u001b[0;32mimport\u001b[0m \u001b[0mkeras\u001b[0m\u001b[0;34m\u001b[0m\u001b[0m\n\u001b[0m\u001b[1;32m      4\u001b[0m \u001b[0;32mfrom\u001b[0m \u001b[0mkeras\u001b[0m\u001b[0;34m.\u001b[0m\u001b[0mmodels\u001b[0m \u001b[0;32mimport\u001b[0m \u001b[0mSequential\u001b[0m\u001b[0;34m\u001b[0m\u001b[0m\n\u001b[1;32m      5\u001b[0m \u001b[0;32mfrom\u001b[0m \u001b[0mkeras\u001b[0m\u001b[0;34m.\u001b[0m\u001b[0mlayers\u001b[0m \u001b[0;32mimport\u001b[0m \u001b[0mDense\u001b[0m\u001b[0;34m,\u001b[0m \u001b[0mFlatten\u001b[0m\u001b[0;34m,\u001b[0m \u001b[0mDropout\u001b[0m\u001b[0;34m,\u001b[0m \u001b[0mConv1D\u001b[0m\u001b[0;34m,\u001b[0m \u001b[0mMaxPooling1D\u001b[0m\u001b[0;34m\u001b[0m\u001b[0m\n",
      "\u001b[0;31mModuleNotFoundError\u001b[0m: No module named 'keras'"
     ]
    }
   ],
   "source": [
    "from networks import Adam, construct_fully_connected_model_282_128, construct_mlp\n",
    "#training_specs = {\"RF\": [{\"n_est\": 100, \"depth\": 30}, {\"n_est\": 100, \"depth\": 30}]}\n",
    "#training_specs = {\"LogReg\": [{\"ep\": 10}, {\"ep\": 10}]}\n",
    "training_specs = {\"NN\": [{\"model\": construct_fully_connected_model_282_128, \"opt\": Adam(learning_rate=0.0001), \"ep\": 1}, \\\n",
    "                         {\"model\": construct_mlp, \"opt\": Adam(learning_rate=0.001), \"ep\":5}]}\n",
    "\n",
    "df_result = li.train(df, training_specs)"
   ]
  },
  {
   "cell_type": "markdown",
   "metadata": {},
   "source": [
    "The training logs will inform you what level/node is being trained, and, in case of NNs, their accuracy as they're trained. Note that since we trian on the whole dataset we do not use any validation dataset."
   ]
  },
  {
   "cell_type": "markdown",
   "metadata": {},
   "source": [
    "### Searching\n",
    "\n",
    "Once we've trained the data, we can search in them."
   ]
  },
  {
   "cell_type": "code",
   "execution_count": 6,
   "metadata": {},
   "outputs": [
    {
     "ename": "NameError",
     "evalue": "name 'df_result' is not defined",
     "output_type": "error",
     "traceback": [
      "\u001b[0;31m---------------------------------------------------------------------------\u001b[0m",
      "\u001b[0;31mNameError\u001b[0m                                 Traceback (most recent call last)",
      "\u001b[0;32m<ipython-input-6-2e5e32e2abc1>\u001b[0m in \u001b[0;36m<module>\u001b[0;34m\u001b[0m\n\u001b[0;32m----> 1\u001b[0;31m \u001b[0mdf_result\u001b[0m\u001b[0;34m.\u001b[0m\u001b[0mhead\u001b[0m\u001b[0;34m(\u001b[0m\u001b[0;36m2\u001b[0m\u001b[0;34m)\u001b[0m\u001b[0;34m\u001b[0m\u001b[0m\n\u001b[0m",
      "\u001b[0;31mNameError\u001b[0m: name 'df_result' is not defined"
     ]
    }
   ],
   "source": [
    "df_result.head(2)"
   ]
  },
  {
   "cell_type": "code",
   "execution_count": null,
   "metadata": {},
   "outputs": [],
   "source": [
    "result = li.search(df_result, df_result.iloc[0][\"object_id\"], stop_cond_objects=[500, 1000], debug=True)\n",
    "result"
   ]
  },
  {
   "cell_type": "markdown",
   "metadata": {},
   "source": [
    "If `debug=True` is specified when searching, the logging will guide us through the whole process of searching.\n",
    "Beginning in the default step of popping the root node and collecting probabilities for nodes in the first level (`Step 1: L1 added`), to popping the nodes in the first level and collecting probs. of their children all the way to popping the buckets themselves.\n",
    "\n",
    "The return value of the `search` operation is the following:\n",
    "- `id` for node id (= `object_id`)\n",
    "- `time_checkpoints` time (in s) it took to find the corresponding checkpoints\n",
    "- `popped_nodes_checkpoints` - the nodes that managed to be popped till their collective sum of objects did not overstep the corresponding `stop_cond_objects` threshold\n",
    "- `objects_checkpoints` - the actual sum of all found objects following `stop_cond_objects`. Is slightly higher than `stop_cond_objects`"
   ]
  },
  {
   "cell_type": "markdown",
   "metadata": {},
   "source": [
    "## k-NN result evaluation"
   ]
  },
  {
   "cell_type": "code",
   "execution_count": 53,
   "metadata": {},
   "outputs": [],
   "source": [
    "from knn_search import evaluate_knn_per_query, get_knn_buckets_for_query"
   ]
  },
  {
   "cell_type": "code",
   "execution_count": 38,
   "metadata": {},
   "outputs": [
    {
     "data": {
      "text/plain": [
       "100000"
      ]
     },
     "execution_count": 38,
     "metadata": {},
     "output_type": "execute_result"
    }
   ],
   "source": [
    "# get the ground truth of the 30 nearest neighbors for each object (query)\n",
    "knns = li.load_knns()\n",
    "len(knns)"
   ]
  },
  {
   "cell_type": "markdown",
   "metadata": {},
   "source": [
    "### k-NN ground truth\n",
    "\n",
    "The following output shows the ground truth buckets for every nearest neighbor of our query. The k-NN recall is computed as the number of objects in the visited buckets over the 30 overall objects."
   ]
  },
  {
   "cell_type": "code",
   "execution_count": 54,
   "metadata": {},
   "outputs": [
    {
     "data": {
      "text/plain": [
       "{'C.1.15.60': ['1359232'],\n",
       " 'C.1.15.14': ['85346435'],\n",
       " 'C.1.15.75': ['88363019',\n",
       "  '21399194',\n",
       "  '6575940',\n",
       "  '83916626',\n",
       "  '100662876',\n",
       "  '74283088',\n",
       "  '86992232'],\n",
       " 'C.1.5.52': ['53438476', '100021289'],\n",
       " 'C.1.15.52': ['83916430'],\n",
       " 'C.1.5.84': ['75273245'],\n",
       " 'C.1.15.80': ['32374815', '96749349'],\n",
       " 'C.1.5.14': ['91841316'],\n",
       " 'C.1.8.33': ['40731301'],\n",
       " 'C.1.12.76': ['94160177'],\n",
       " 'C.1.15.20': ['88062129'],\n",
       " 'C.1.15.76': ['96978627', '77887056'],\n",
       " 'C.1.5.64': ['17955785'],\n",
       " 'C.1.15.63': ['101036492'],\n",
       " 'C.1.15.79': ['85310046'],\n",
       " 'C.1.15.33': ['10875747'],\n",
       " 'C.1.15.65': ['84525796'],\n",
       " 'C.1.15.84': ['82244198', '60558950'],\n",
       " 'C.1.5.49': ['99784947'],\n",
       " 'C.1.5.46': ['86869882']}"
      ]
     },
     "execution_count": 54,
     "metadata": {},
     "output_type": "execute_result"
    }
   ],
   "source": [
    "get_knn_buckets_for_query(df_result, result['id'], knns)"
   ]
  },
  {
   "cell_type": "code",
   "execution_count": 44,
   "metadata": {},
   "outputs": [
    {
     "name": "stdout",
     "output_type": "stream",
     "text": [
      "Evaluating k-NN performance on 2 checkpoints: [506, 1008]\n",
      "C.1.15.75\n",
      "C.1.5.52\n",
      "C.1.5.84\n",
      "N. of knns found: 10 in 6 buckets.\n",
      "C.1.15.75\n",
      "C.1.5.52\n",
      "C.1.5.84\n",
      "C.1.5.46\n",
      "C.1.15.76\n",
      "C.1.15.14\n",
      "N. of knns found: 14 in 13 buckets.\n"
     ]
    },
    {
     "data": {
      "text/plain": [
       "[0.3333333333333333, 0.4666666666666667]"
      ]
     },
     "execution_count": 44,
     "metadata": {},
     "output_type": "execute_result"
    }
   ],
   "source": [
    "evaluate_knn_per_query(result, df_result, knns)"
   ]
  }
 ],
 "metadata": {
  "kernelspec": {
   "display_name": "Python 3",
   "language": "python",
   "name": "python3"
  },
  "language_info": {
   "codemirror_mode": {
    "name": "ipython",
    "version": 3
   },
   "file_extension": ".py",
   "mimetype": "text/x-python",
   "name": "python",
   "nbconvert_exporter": "python",
   "pygments_lexer": "ipython3",
   "version": "3.6.2"
  }
 },
 "nbformat": 4,
 "nbformat_minor": 4
}
